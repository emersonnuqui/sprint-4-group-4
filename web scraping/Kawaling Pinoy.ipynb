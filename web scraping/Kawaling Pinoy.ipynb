{
 "cells": [
  {
   "cell_type": "markdown",
   "id": "ef73a612",
   "metadata": {
    "toc": true
   },
   "source": [
    "<h1>Table of Contents<span class=\"tocSkip\"></span></h1>\n",
    "<div class=\"toc\"><ul class=\"toc-item\"></ul></div>"
   ]
  },
  {
   "cell_type": "code",
   "execution_count": 2,
   "id": "5549da63",
   "metadata": {},
   "outputs": [],
   "source": [
    "import bs4\n",
    "import pandas as pd\n",
    "import numpy as np\n",
    "import random\n",
    "import requests\n",
    "from lxml import etree\n",
    "import time\n",
    "\n",
    "from selenium import webdriver\n",
    "from selenium.webdriver.common.by import By\n",
    "from selenium.webdriver.support.ui import WebDriverWait\n",
    "from selenium.webdriver.chrome.options import Options\n",
    "from selenium.webdriver.support import expected_conditions as EC\n",
    "from selenium.common.exceptions import ElementNotInteractableException\n",
    "from time import sleep\n",
    "from webdriver_manager.chrome import ChromeDriverManager"
   ]
  },
  {
   "cell_type": "code",
   "execution_count": 5,
   "id": "de9fc522",
   "metadata": {},
   "outputs": [
    {
     "name": "stderr",
     "output_type": "stream",
     "text": [
      "C:\\Users\\emers\\AppData\\Local\\Temp\\ipykernel_29968\\258571526.py:1: DeprecationWarning: executable_path has been deprecated, please pass in a Service object\n",
      "  driver = webdriver.Chrome(ChromeDriverManager().install())\n"
     ]
    }
   ],
   "source": [
    "driver = webdriver.Chrome(ChromeDriverManager().install())\n",
    "\n",
    "urls = []\n",
    "for page in range(1, 35):\n",
    "    driver.get(\"https://www.kawalingpinoy.com/recipe-index/?fwp_paged=\"+str(page))\n",
    "    #total_height = int(driver.execute_script(\"return document.body.scrollHeight\"))\n",
    "    #for i in range(1, total_height, 5):\n",
    "        #driver.execute_script(\"window.scrollTo(0, {});\".format(i))\n",
    "    recipe = driver.find_elements(By.XPATH, '//header[@class=\"entry-header\"]//a[@rel = \"bookmark\"]')\n",
    "\n",
    "    for _recipe in recipe:\n",
    "        urls.append({\"url\":_recipe.get_attribute('href')})\n",
    "driver.quit()"
   ]
  },
  {
   "cell_type": "code",
   "execution_count": 6,
   "id": "62980419",
   "metadata": {
    "scrolled": true
   },
   "outputs": [
    {
     "data": {
      "text/plain": [
       "595"
      ]
     },
     "execution_count": 6,
     "metadata": {},
     "output_type": "execute_result"
    }
   ],
   "source": [
    "len(urls)"
   ]
  },
  {
   "cell_type": "code",
   "execution_count": 7,
   "id": "ef45fb8d",
   "metadata": {},
   "outputs": [],
   "source": [
    "data = pd.DataFrame(urls)"
   ]
  },
  {
   "cell_type": "code",
   "execution_count": 8,
   "id": "8cd02537",
   "metadata": {},
   "outputs": [],
   "source": [
    "data.to_csv(\"all_recipe_urls_kawaling_pinoy.csv\")"
   ]
  },
  {
   "cell_type": "code",
   "execution_count": 3,
   "id": "07664233",
   "metadata": {},
   "outputs": [],
   "source": [
    "data_final = pd.read_csv(\"all_recipe_urls_kawaling_pinoy.csv\")"
   ]
  },
  {
   "cell_type": "code",
   "execution_count": 4,
   "id": "3706c6c0",
   "metadata": {
    "scrolled": false
   },
   "outputs": [
    {
     "name": "stderr",
     "output_type": "stream",
     "text": [
      "C:\\Users\\emers\\AppData\\Local\\Temp\\ipykernel_46724\\212453572.py:1: DeprecationWarning: executable_path has been deprecated, please pass in a Service object\n",
      "  driver = webdriver.Chrome(ChromeDriverManager().install())\n"
     ]
    }
   ],
   "source": [
    "driver = webdriver.Chrome(ChromeDriverManager().install())\n",
    "recipes = []\n",
    "\n",
    "for food in data_final[\"url\"]:\n",
    "    driver.get(food)\n",
    "    try:\n",
    "        meal = driver.find_element(By.XPATH,\"//div[@class='wprm-recipe-custom-card-by-once-coupled']//h2[@class='wprm-recipe-name wprm-block-text-normal']\").text\n",
    "    except:\n",
    "        meal = 'none'\n",
    "    #description = driver.find_element(By.XPATH,\"//div[@class='wprm-recipe-custom-card-by-once-coupled']//div[@class='wprm-recipe-summary wprm-block-text-normal']\").text\n",
    "    #prep_and_cook_time = driver.find_elements(By.XPATH,\"//div[@class='wprm-recipe-custom-card-by-once-coupled']//span[@class='wprm-recipe-time wprm-block-text-normal']\")\n",
    "    try:\n",
    "        course = driver.find_element(By.XPATH,\"//div[@class='wprm-recipe-custom-card-by-once-coupled']//span[@class='wprm-recipe-course wprm-block-text-normal']\").text\n",
    "    except:\n",
    "        course = 'none'\n",
    "    #review = driver.find_element(By.XPATH,\"//div[@class='wprm-recipe-custom-card-by-once-coupled']//span[@class='wprm-recipe-rating-average']\").text\n",
    "    #number_of_review = driver.find_element(By.XPATH,\"//div[@class='wprm-recipe-custom-card-by-once-coupled']//span[@class='wprm-recipe-rating-count']\").text\n",
    "    try:\n",
    "        instruction = driver.find_element(By.XPATH,\"//div[@class='wprm-recipe-custom-card-by-once-coupled']//ul[@class='wprm-recipe-instructions']\").text\n",
    "    except:\n",
    "        instruction = 'none'\n",
    "    try:\n",
    "        ingredient_list = driver.find_elements(By.XPATH,\"//div[@class='wprm-recipe-custom-card-by-once-coupled']//li[@class='wprm-recipe-ingredient']\")\n",
    "        ingredients = []\n",
    "        for i in range(0, len(ingredient_list)):\n",
    "            ingredients.append(ingredient_list[i].text)\n",
    "        ingredients = ', '.join(ingredients)\n",
    "    except:\n",
    "        ingredients = 'none'\n",
    "    \n",
    "    recipes.append({\n",
    "        \"url\": food,\n",
    "        \"food\": meal,\n",
    "        \"course\": course,\n",
    "        #\"description\": description,\n",
    "        #\"prep time\": prep_and_cook_time[0].text,\n",
    "        #\"cook time\": prep_and_cook_time[1].text,\n",
    "        #\"number of serving\": number_of_serving, \n",
    "        #\"calories\": calories,\n",
    "        \"ingredients\": ingredients,\n",
    "        \"instructions\": instruction\n",
    "        })\n",
    "    time.sleep(5)\n"
   ]
  },
  {
   "cell_type": "code",
   "execution_count": 10,
   "id": "d4cfa486",
   "metadata": {},
   "outputs": [
    {
     "data": {
      "text/plain": [
       "594"
      ]
     },
     "execution_count": 10,
     "metadata": {},
     "output_type": "execute_result"
    }
   ],
   "source": [
    "len(recipes)"
   ]
  },
  {
   "cell_type": "code",
   "execution_count": 11,
   "id": "54cc9345",
   "metadata": {},
   "outputs": [],
   "source": [
    "recipes_data = pd.DataFrame(recipes)"
   ]
  },
  {
   "cell_type": "code",
   "execution_count": 12,
   "id": "50d66d9a",
   "metadata": {},
   "outputs": [
    {
     "data": {
      "text/html": [
       "<div>\n",
       "<style scoped>\n",
       "    .dataframe tbody tr th:only-of-type {\n",
       "        vertical-align: middle;\n",
       "    }\n",
       "\n",
       "    .dataframe tbody tr th {\n",
       "        vertical-align: top;\n",
       "    }\n",
       "\n",
       "    .dataframe thead th {\n",
       "        text-align: right;\n",
       "    }\n",
       "</style>\n",
       "<table border=\"1\" class=\"dataframe\">\n",
       "  <thead>\n",
       "    <tr style=\"text-align: right;\">\n",
       "      <th></th>\n",
       "      <th>url</th>\n",
       "      <th>food</th>\n",
       "      <th>course</th>\n",
       "      <th>ingredients</th>\n",
       "      <th>instructions</th>\n",
       "    </tr>\n",
       "  </thead>\n",
       "  <tbody>\n",
       "    <tr>\n",
       "      <th>0</th>\n",
       "      <td>https://www.kawalingpinoy.com/ginisang-pusit/</td>\n",
       "      <td>Ginisang Pusit</td>\n",
       "      <td>Main Entree</td>\n",
       "      <td>2 pounds squid, 1/2 cup vinegar, 4 cloves garl...</td>\n",
       "      <td>Hold the tail tube portion of the squid and wi...</td>\n",
       "    </tr>\n",
       "    <tr>\n",
       "      <th>1</th>\n",
       "      <td>https://www.kawalingpinoy.com/polvoron/</td>\n",
       "      <td>Polvoron</td>\n",
       "      <td>Dessert</td>\n",
       "      <td>2 cups flour, 1 cup powdered full cream milk (...</td>\n",
       "      <td>In a skillet over medium heat, add flour. Toas...</td>\n",
       "    </tr>\n",
       "    <tr>\n",
       "      <th>2</th>\n",
       "      <td>https://www.kawalingpinoy.com/ube-maja-blanca/</td>\n",
       "      <td>Ube Maja Blanca</td>\n",
       "      <td>Dessert</td>\n",
       "      <td>2 cups coconut cream, 2 cans (13.5 ounces each...</td>\n",
       "      <td>In a pan over medium heat, add coconut cream a...</td>\n",
       "    </tr>\n",
       "    <tr>\n",
       "      <th>3</th>\n",
       "      <td>https://www.kawalingpinoy.com/adobong-talaba/</td>\n",
       "      <td>Adobong Talaba</td>\n",
       "      <td>Main Entree</td>\n",
       "      <td>1 tablespoon canola oil, 2 tablespoons butter,...</td>\n",
       "      <td>In a pan over medium heat, heat oil. Add butte...</td>\n",
       "    </tr>\n",
       "    <tr>\n",
       "      <th>4</th>\n",
       "      <td>https://www.kawalingpinoy.com/miswa-at-patola-...</td>\n",
       "      <td>Miswa at Patola Soup</td>\n",
       "      <td>Main Entree, Soup</td>\n",
       "      <td>3 medium patola, 1 tablespoon canola oil, 1 on...</td>\n",
       "      <td>Cut off both ends of the patola and discard. U...</td>\n",
       "    </tr>\n",
       "    <tr>\n",
       "      <th>...</th>\n",
       "      <td>...</td>\n",
       "      <td>...</td>\n",
       "      <td>...</td>\n",
       "      <td>...</td>\n",
       "      <td>...</td>\n",
       "    </tr>\n",
       "    <tr>\n",
       "      <th>589</th>\n",
       "      <td>https://www.kawalingpinoy.com/garlic-butter-fr...</td>\n",
       "      <td>Garlic Butter Fried Frog Legs</td>\n",
       "      <td>none</td>\n",
       "      <td>1 lb about 3 to 4 pieces frog legs, 1 tablespo...</td>\n",
       "      <td>Rinse frog legs and pat dry.\\nIn a bowl, combi...</td>\n",
       "    </tr>\n",
       "    <tr>\n",
       "      <th>590</th>\n",
       "      <td>https://www.kawalingpinoy.com/tinolang-manok-c...</td>\n",
       "      <td>Tinolang Manok</td>\n",
       "      <td>Main Entree</td>\n",
       "      <td>1 tablespoon canola oil, 1 small onion, peeled...</td>\n",
       "      <td>In a pot over medium heat, heat oil. Add onion...</td>\n",
       "    </tr>\n",
       "    <tr>\n",
       "      <th>591</th>\n",
       "      <td>https://www.kawalingpinoy.com/tilapia-with-bla...</td>\n",
       "      <td>Tilapia in Black Bean Garlic Sauce</td>\n",
       "      <td>Main Entree</td>\n",
       "      <td>4 (4 ounces each) tilapia fillets, salt and pe...</td>\n",
       "      <td>Wash tilapia and pat dry. Lightly season with ...</td>\n",
       "    </tr>\n",
       "    <tr>\n",
       "      <th>592</th>\n",
       "      <td>https://www.kawalingpinoy.com/pork-adobo/</td>\n",
       "      <td>Pork Adobo</td>\n",
       "      <td>Main Entree</td>\n",
       "      <td>2 pounds pork belly, cut into 2-inch cubes, 1 ...</td>\n",
       "      <td>In a bowl, combine pork, onions, garlic, bay l...</td>\n",
       "    </tr>\n",
       "    <tr>\n",
       "      <th>593</th>\n",
       "      <td>https://www.kawalingpinoy.com/sinigang-na-baboy/</td>\n",
       "      <td>Sinigang na Baboy</td>\n",
       "      <td>Main Entree</td>\n",
       "      <td>2 pounds pork spare ribs, cut into 2-inch piec...</td>\n",
       "      <td>Rinse pork ribs and drain well.\\nIn a pot over...</td>\n",
       "    </tr>\n",
       "  </tbody>\n",
       "</table>\n",
       "<p>594 rows × 5 columns</p>\n",
       "</div>"
      ],
      "text/plain": [
       "                                                   url  \\\n",
       "0        https://www.kawalingpinoy.com/ginisang-pusit/   \n",
       "1              https://www.kawalingpinoy.com/polvoron/   \n",
       "2       https://www.kawalingpinoy.com/ube-maja-blanca/   \n",
       "3        https://www.kawalingpinoy.com/adobong-talaba/   \n",
       "4    https://www.kawalingpinoy.com/miswa-at-patola-...   \n",
       "..                                                 ...   \n",
       "589  https://www.kawalingpinoy.com/garlic-butter-fr...   \n",
       "590  https://www.kawalingpinoy.com/tinolang-manok-c...   \n",
       "591  https://www.kawalingpinoy.com/tilapia-with-bla...   \n",
       "592          https://www.kawalingpinoy.com/pork-adobo/   \n",
       "593   https://www.kawalingpinoy.com/sinigang-na-baboy/   \n",
       "\n",
       "                                   food             course  \\\n",
       "0                        Ginisang Pusit        Main Entree   \n",
       "1                              Polvoron            Dessert   \n",
       "2                       Ube Maja Blanca            Dessert   \n",
       "3                        Adobong Talaba        Main Entree   \n",
       "4                  Miswa at Patola Soup  Main Entree, Soup   \n",
       "..                                  ...                ...   \n",
       "589       Garlic Butter Fried Frog Legs               none   \n",
       "590                      Tinolang Manok        Main Entree   \n",
       "591  Tilapia in Black Bean Garlic Sauce        Main Entree   \n",
       "592                          Pork Adobo        Main Entree   \n",
       "593                   Sinigang na Baboy        Main Entree   \n",
       "\n",
       "                                           ingredients  \\\n",
       "0    2 pounds squid, 1/2 cup vinegar, 4 cloves garl...   \n",
       "1    2 cups flour, 1 cup powdered full cream milk (...   \n",
       "2    2 cups coconut cream, 2 cans (13.5 ounces each...   \n",
       "3    1 tablespoon canola oil, 2 tablespoons butter,...   \n",
       "4    3 medium patola, 1 tablespoon canola oil, 1 on...   \n",
       "..                                                 ...   \n",
       "589  1 lb about 3 to 4 pieces frog legs, 1 tablespo...   \n",
       "590  1 tablespoon canola oil, 1 small onion, peeled...   \n",
       "591  4 (4 ounces each) tilapia fillets, salt and pe...   \n",
       "592  2 pounds pork belly, cut into 2-inch cubes, 1 ...   \n",
       "593  2 pounds pork spare ribs, cut into 2-inch piec...   \n",
       "\n",
       "                                          instructions  \n",
       "0    Hold the tail tube portion of the squid and wi...  \n",
       "1    In a skillet over medium heat, add flour. Toas...  \n",
       "2    In a pan over medium heat, add coconut cream a...  \n",
       "3    In a pan over medium heat, heat oil. Add butte...  \n",
       "4    Cut off both ends of the patola and discard. U...  \n",
       "..                                                 ...  \n",
       "589  Rinse frog legs and pat dry.\\nIn a bowl, combi...  \n",
       "590  In a pot over medium heat, heat oil. Add onion...  \n",
       "591  Wash tilapia and pat dry. Lightly season with ...  \n",
       "592  In a bowl, combine pork, onions, garlic, bay l...  \n",
       "593  Rinse pork ribs and drain well.\\nIn a pot over...  \n",
       "\n",
       "[594 rows x 5 columns]"
      ]
     },
     "execution_count": 12,
     "metadata": {},
     "output_type": "execute_result"
    }
   ],
   "source": [
    "recipes_data"
   ]
  },
  {
   "cell_type": "code",
   "execution_count": 33,
   "id": "8814fbc4",
   "metadata": {},
   "outputs": [],
   "source": [
    "final_data = final_data[['url', 'food', 'prep time', 'cook time', 'ingredients', 'instructions']]"
   ]
  },
  {
   "cell_type": "code",
   "execution_count": 37,
   "id": "fdc50908",
   "metadata": {},
   "outputs": [
    {
     "data": {
      "text/plain": [
       "url             0\n",
       "food            0\n",
       "prep time       0\n",
       "cook time       0\n",
       "ingredients     0\n",
       "instructions    0\n",
       "dtype: int64"
      ]
     },
     "execution_count": 37,
     "metadata": {},
     "output_type": "execute_result"
    }
   ],
   "source": [
    "final_data.isna().sum()"
   ]
  },
  {
   "cell_type": "code",
   "execution_count": 13,
   "id": "1c4ffa39",
   "metadata": {},
   "outputs": [],
   "source": [
    "recipes_data.to_csv(\"kawaling_pinoy.csv\", index=False)"
   ]
  },
  {
   "cell_type": "code",
   "execution_count": null,
   "id": "6c1830e5",
   "metadata": {},
   "outputs": [],
   "source": []
  }
 ],
 "metadata": {
  "kernelspec": {
   "display_name": "Python 3 (ipykernel)",
   "language": "python",
   "name": "python3"
  },
  "language_info": {
   "codemirror_mode": {
    "name": "ipython",
    "version": 3
   },
   "file_extension": ".py",
   "mimetype": "text/x-python",
   "name": "python",
   "nbconvert_exporter": "python",
   "pygments_lexer": "ipython3",
   "version": "3.9.12"
  },
  "toc": {
   "base_numbering": 1,
   "nav_menu": {},
   "number_sections": true,
   "sideBar": true,
   "skip_h1_title": false,
   "title_cell": "Table of Contents",
   "title_sidebar": "Contents",
   "toc_cell": true,
   "toc_position": {},
   "toc_section_display": true,
   "toc_window_display": false
  }
 },
 "nbformat": 4,
 "nbformat_minor": 5
}
