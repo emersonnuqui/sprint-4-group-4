{
 "cells": [
  {
   "cell_type": "code",
   "execution_count": 117,
   "id": "a8ad4253-d1b4-4ea3-9c02-516c1b520f23",
   "metadata": {},
   "outputs": [],
   "source": [
    "import spacy\n",
    "import pandas as pd\n",
    "import numpy as np\n",
    "import matplotlib.pyplot as plt\n",
    "from collections import Counter\n",
    "from nltk.corpus import stopwords\n",
    "from wordcloud import WordCloud, STOPWORDS\n",
    "\n",
    "nlp = spacy.load(\"en_core_web_sm\")"
   ]
  },
  {
   "cell_type": "code",
   "execution_count": 118,
   "id": "6070fc4c-2daf-4d7c-ac3f-42aa33659e32",
   "metadata": {},
   "outputs": [],
   "source": [
    "df = pd.read_csv(\"sample_clean_panlasang_pinoy.csv\", index_col=0)"
   ]
  },
  {
   "cell_type": "code",
   "execution_count": 119,
   "id": "50a3a882-53ec-4cef-b0e3-5e793c5fdde3",
   "metadata": {},
   "outputs": [
    {
     "data": {
      "text/html": [
       "<div>\n",
       "<style scoped>\n",
       "    .dataframe tbody tr th:only-of-type {\n",
       "        vertical-align: middle;\n",
       "    }\n",
       "\n",
       "    .dataframe tbody tr th {\n",
       "        vertical-align: top;\n",
       "    }\n",
       "\n",
       "    .dataframe thead th {\n",
       "        text-align: right;\n",
       "    }\n",
       "</style>\n",
       "<table border=\"1\" class=\"dataframe\">\n",
       "  <thead>\n",
       "    <tr style=\"text-align: right;\">\n",
       "      <th></th>\n",
       "      <th>food</th>\n",
       "      <th>ingredients</th>\n",
       "      <th>instructions</th>\n",
       "      <th>ingredients_clean</th>\n",
       "      <th>instructions_clean</th>\n",
       "    </tr>\n",
       "  </thead>\n",
       "  <tbody>\n",
       "    <tr>\n",
       "      <th>0</th>\n",
       "      <td>Pinoy Chicken Sopas</td>\n",
       "      <td>1 lb. rotisserie chicken shredded, 2 Knorr Chi...</td>\n",
       "      <td>Heat cooking oil in a cooking pot. Sauté onion...</td>\n",
       "      <td>rotisserie chicken knorr chicken cube hotdog c...</td>\n",
       "      <td>cook pour let boil cover cook evaporate need</td>\n",
       "    </tr>\n",
       "    <tr>\n",
       "      <th>1</th>\n",
       "      <td>Popcorn Chicken and Gravy KFC Style Secret Recipe</td>\n",
       "      <td>1 lb. boneless chicken breast cubed, 1 cup coo...</td>\n",
       "      <td>Start making the popcorn chicken by combining ...</td>\n",
       "      <td>boneless chicken breast oil knorr liquid seaso...</td>\n",
       "      <td>make combine season stir blend melt wait stir ...</td>\n",
       "    </tr>\n",
       "    <tr>\n",
       "      <th>2</th>\n",
       "      <td>Idol Cheesedog Bread Roll and Bites</td>\n",
       "      <td>12 CDO Idol Cheesedog, 2 cups all-purpose flou...</td>\n",
       "      <td>Start making the idol bites by preparing the d...</td>\n",
       "      <td>purpose flour milk egg teaspoon canola oil tea...</td>\n",
       "      <td>make prepare evaporate mix combine mix blend c...</td>\n",
       "    </tr>\n",
       "    <tr>\n",
       "      <th>3</th>\n",
       "      <td>Perfect Chicken Adobo on a Budget</td>\n",
       "      <td>2 lbs. chicken cut into serving pieces, 1 Knor...</td>\n",
       "      <td>Combine chicken, soy sauce, vinegar, and 5 clo...</td>\n",
       "      <td>chicken knorr chicken cube egg size soy sauce ...</td>\n",
       "      <td>mix boil let cool peel remain start turn inclu...</td>\n",
       "    </tr>\n",
       "    <tr>\n",
       "      <th>4</th>\n",
       "      <td>Creamy Mushroom Chicken</td>\n",
       "      <td>1 ½ lbs. chicken cut into serving pieces, 1 Kn...</td>\n",
       "      <td>Rub salt and ground black pepper all over the ...</td>\n",
       "      <td>chicken knorr chicken cube purpose cream carro...</td>\n",
       "      <td>let stay remain get remove start turn cook sof...</td>\n",
       "    </tr>\n",
       "  </tbody>\n",
       "</table>\n",
       "</div>"
      ],
      "text/plain": [
       "                                                food  \\\n",
       "0                                Pinoy Chicken Sopas   \n",
       "1  Popcorn Chicken and Gravy KFC Style Secret Recipe   \n",
       "2                Idol Cheesedog Bread Roll and Bites   \n",
       "3                  Perfect Chicken Adobo on a Budget   \n",
       "4                            Creamy Mushroom Chicken   \n",
       "\n",
       "                                         ingredients  \\\n",
       "0  1 lb. rotisserie chicken shredded, 2 Knorr Chi...   \n",
       "1  1 lb. boneless chicken breast cubed, 1 cup coo...   \n",
       "2  12 CDO Idol Cheesedog, 2 cups all-purpose flou...   \n",
       "3  2 lbs. chicken cut into serving pieces, 1 Knor...   \n",
       "4  1 ½ lbs. chicken cut into serving pieces, 1 Kn...   \n",
       "\n",
       "                                        instructions  \\\n",
       "0  Heat cooking oil in a cooking pot. Sauté onion...   \n",
       "1  Start making the popcorn chicken by combining ...   \n",
       "2  Start making the idol bites by preparing the d...   \n",
       "3  Combine chicken, soy sauce, vinegar, and 5 clo...   \n",
       "4  Rub salt and ground black pepper all over the ...   \n",
       "\n",
       "                                   ingredients_clean  \\\n",
       "0  rotisserie chicken knorr chicken cube hotdog c...   \n",
       "1  boneless chicken breast oil knorr liquid seaso...   \n",
       "2  purpose flour milk egg teaspoon canola oil tea...   \n",
       "3  chicken knorr chicken cube egg size soy sauce ...   \n",
       "4  chicken knorr chicken cube purpose cream carro...   \n",
       "\n",
       "                                  instructions_clean  \n",
       "0       cook pour let boil cover cook evaporate need  \n",
       "1  make combine season stir blend melt wait stir ...  \n",
       "2  make prepare evaporate mix combine mix blend c...  \n",
       "3  mix boil let cool peel remain start turn inclu...  \n",
       "4  let stay remain get remove start turn cook sof...  "
      ]
     },
     "execution_count": 119,
     "metadata": {},
     "output_type": "execute_result"
    }
   ],
   "source": [
    "df.head()"
   ]
  },
  {
   "cell_type": "code",
   "execution_count": 120,
   "id": "ae297cab-7d1d-4175-a123-2d3180912b75",
   "metadata": {},
   "outputs": [
    {
     "data": {
      "text/html": [
       "<div>\n",
       "<style scoped>\n",
       "    .dataframe tbody tr th:only-of-type {\n",
       "        vertical-align: middle;\n",
       "    }\n",
       "\n",
       "    .dataframe tbody tr th {\n",
       "        vertical-align: top;\n",
       "    }\n",
       "\n",
       "    .dataframe thead th {\n",
       "        text-align: right;\n",
       "    }\n",
       "</style>\n",
       "<table border=\"1\" class=\"dataframe\">\n",
       "  <thead>\n",
       "    <tr style=\"text-align: right;\">\n",
       "      <th></th>\n",
       "      <th>food</th>\n",
       "      <th>ingredients</th>\n",
       "      <th>instructions</th>\n",
       "      <th>ingredients_clean</th>\n",
       "      <th>instructions_clean</th>\n",
       "    </tr>\n",
       "  </thead>\n",
       "  <tbody>\n",
       "    <tr>\n",
       "      <th>0</th>\n",
       "      <td>Pinoy Chicken Sopas</td>\n",
       "      <td>1 lb. rotisserie chicken shredded, 2 Knorr Chi...</td>\n",
       "      <td>Heat cooking oil in a cooking pot. Sauté onion...</td>\n",
       "      <td>rotisserie chicken knorr chicken cube hotdog c...</td>\n",
       "      <td>cook pour let boil cover cook evaporate need</td>\n",
       "    </tr>\n",
       "    <tr>\n",
       "      <th>1</th>\n",
       "      <td>Popcorn Chicken and Gravy KFC Style Secret Recipe</td>\n",
       "      <td>1 lb. boneless chicken breast cubed, 1 cup coo...</td>\n",
       "      <td>Start making the popcorn chicken by combining ...</td>\n",
       "      <td>boneless chicken breast oil knorr liquid seaso...</td>\n",
       "      <td>make combine season stir blend melt wait stir ...</td>\n",
       "    </tr>\n",
       "    <tr>\n",
       "      <th>2</th>\n",
       "      <td>Idol Cheesedog Bread Roll and Bites</td>\n",
       "      <td>12 CDO Idol Cheesedog, 2 cups all-purpose flou...</td>\n",
       "      <td>Start making the idol bites by preparing the d...</td>\n",
       "      <td>purpose flour milk egg teaspoon canola oil tea...</td>\n",
       "      <td>make prepare evaporate mix combine mix blend c...</td>\n",
       "    </tr>\n",
       "    <tr>\n",
       "      <th>3</th>\n",
       "      <td>Perfect Chicken Adobo on a Budget</td>\n",
       "      <td>2 lbs. chicken cut into serving pieces, 1 Knor...</td>\n",
       "      <td>Combine chicken, soy sauce, vinegar, and 5 clo...</td>\n",
       "      <td>chicken knorr chicken cube egg size soy sauce ...</td>\n",
       "      <td>mix boil let cool peel remain start turn inclu...</td>\n",
       "    </tr>\n",
       "    <tr>\n",
       "      <th>4</th>\n",
       "      <td>Creamy Mushroom Chicken</td>\n",
       "      <td>1 ½ lbs. chicken cut into serving pieces, 1 Kn...</td>\n",
       "      <td>Rub salt and ground black pepper all over the ...</td>\n",
       "      <td>chicken knorr chicken cube purpose cream carro...</td>\n",
       "      <td>let stay remain get remove start turn cook sof...</td>\n",
       "    </tr>\n",
       "  </tbody>\n",
       "</table>\n",
       "</div>"
      ],
      "text/plain": [
       "                                                food  \\\n",
       "0                                Pinoy Chicken Sopas   \n",
       "1  Popcorn Chicken and Gravy KFC Style Secret Recipe   \n",
       "2                Idol Cheesedog Bread Roll and Bites   \n",
       "3                  Perfect Chicken Adobo on a Budget   \n",
       "4                            Creamy Mushroom Chicken   \n",
       "\n",
       "                                         ingredients  \\\n",
       "0  1 lb. rotisserie chicken shredded, 2 Knorr Chi...   \n",
       "1  1 lb. boneless chicken breast cubed, 1 cup coo...   \n",
       "2  12 CDO Idol Cheesedog, 2 cups all-purpose flou...   \n",
       "3  2 lbs. chicken cut into serving pieces, 1 Knor...   \n",
       "4  1 ½ lbs. chicken cut into serving pieces, 1 Kn...   \n",
       "\n",
       "                                        instructions  \\\n",
       "0  Heat cooking oil in a cooking pot. Sauté onion...   \n",
       "1  Start making the popcorn chicken by combining ...   \n",
       "2  Start making the idol bites by preparing the d...   \n",
       "3  Combine chicken, soy sauce, vinegar, and 5 clo...   \n",
       "4  Rub salt and ground black pepper all over the ...   \n",
       "\n",
       "                                   ingredients_clean  \\\n",
       "0  rotisserie chicken knorr chicken cube hotdog c...   \n",
       "1  boneless chicken breast oil knorr liquid seaso...   \n",
       "2  purpose flour milk egg teaspoon canola oil tea...   \n",
       "3  chicken knorr chicken cube egg size soy sauce ...   \n",
       "4  chicken knorr chicken cube purpose cream carro...   \n",
       "\n",
       "                                  instructions_clean  \n",
       "0       cook pour let boil cover cook evaporate need  \n",
       "1  make combine season stir blend melt wait stir ...  \n",
       "2  make prepare evaporate mix combine mix blend c...  \n",
       "3  mix boil let cool peel remain start turn inclu...  \n",
       "4  let stay remain get remove start turn cook sof...  "
      ]
     },
     "execution_count": 120,
     "metadata": {},
     "output_type": "execute_result"
    }
   ],
   "source": [
    "df[\"ingredients_clean\"] = df[\"ingredients_clean\"].astype(str)\n",
    "df.head()"
   ]
  },
  {
   "cell_type": "code",
   "execution_count": 121,
   "id": "9f2142a2-7ae7-4e74-b34b-36e3691038e8",
   "metadata": {},
   "outputs": [],
   "source": [
    "text = \" \".join(ingredients for ingredients in df.ingredients_clean)"
   ]
  },
  {
   "cell_type": "code",
   "execution_count": null,
   "id": "c4d5acf2-74d1-498e-b377-b7f0937762df",
   "metadata": {},
   "outputs": [],
   "source": []
  },
  {
   "cell_type": "code",
   "execution_count": 137,
   "id": "e0e45fd8-6d8b-40c5-9ada-fdd21b1e3c57",
   "metadata": {},
   "outputs": [],
   "source": [
    "from collections import Counter\n",
    "doc = nlp(text)\n",
    "\n",
    "words = [token.lemma_\n",
    "         for token in doc\n",
    "         if not token.is_stop and not token.is_punct]\n",
    "\n",
    "\n",
    "#Frequency\n",
    "word_freq = Counter(words)\n",
    "common_words = word_freq.most_common(20)\n",
    "\n"
   ]
  },
  {
   "cell_type": "code",
   "execution_count": 148,
   "id": "d9f29eb1-534c-4992-a5c4-1674e0f5250a",
   "metadata": {},
   "outputs": [
    {
     "data": {
      "image/png": "[encoded data removed]",
      "text/plain": [
       "<Figure size 432x288 with 1 Axes>"
      ]
     },
     "metadata": {
      "needs_background": "light"
     },
     "output_type": "display_data"
    }
   ],
   "source": [
    "y = [count for tag, count in common_words]\n",
    "x = [tag for tag, count in common_words]\n",
    "\n",
    "\n",
    "plt.barh(x, y, color='crimson')\n",
    "plt.title(\"Most common ingredients in Filipino Dishes\")\n",
    "plt.tight_layout() # change the whitespace such that all labels fit nicely\n",
    "plt.show()"
   ]
  },
  {
   "cell_type": "code",
   "execution_count": null,
   "id": "b2de404f-4063-4d9c-88c9-24ff66c252b2",
   "metadata": {},
   "outputs": [],
   "source": [
    "df = pd.read_csv(\"sample_clean_kawaling_pinoy.csv\", index_col=0)"
   ]
  },
  {
   "cell_type": "code",
   "execution_count": null,
   "id": "e3135426-497b-48e6-8c16-5ed85888afb6",
   "metadata": {},
   "outputs": [],
   "source": [
    "df[\"ingredients_clean\"] = df[\"ingredients_clean\"].astype(str)\n",
    "df.head()"
   ]
  },
  {
   "cell_type": "code",
   "execution_count": null,
   "id": "b80a4824-9555-4d5a-9f6c-9be831d2989e",
   "metadata": {},
   "outputs": [],
   "source": [
    "text2 = \" \".join(ingredients for ingredients in df.ingredients_clean)\n",
    "doc2 = nlp(text2)\n",
    "\n",
    "words = [token.lemma_\n",
    "         for token in doc2\n",
    "         if not token.is_stop and not token.is_punct]\n",
    "\n",
    "#Frequency\n",
    "word_freq = Counter(words)\n",
    "common_words = word_freq.most_common(20)\n",
    "common_words"
   ]
  },
  {
   "cell_type": "code",
   "execution_count": 156,
   "id": "be929779-c7b2-4748-8a00-4ab4d0a7a6a1",
   "metadata": {},
   "outputs": [],
   "source": [
    "df = pd.read_csv(\"sample_clean_kawaling_pinoy.csv\", index_col=0)"
   ]
  },
  {
   "cell_type": "code",
   "execution_count": 157,
   "id": "e5d7e0d6-3619-47d9-87ab-f227ca706009",
   "metadata": {},
   "outputs": [
    {
     "data": {
      "text/html": [
       "<div>\n",
       "<style scoped>\n",
       "    .dataframe tbody tr th:only-of-type {\n",
       "        vertical-align: middle;\n",
       "    }\n",
       "\n",
       "    .dataframe tbody tr th {\n",
       "        vertical-align: top;\n",
       "    }\n",
       "\n",
       "    .dataframe thead th {\n",
       "        text-align: right;\n",
       "    }\n",
       "</style>\n",
       "<table border=\"1\" class=\"dataframe\">\n",
       "  <thead>\n",
       "    <tr style=\"text-align: right;\">\n",
       "      <th></th>\n",
       "      <th>food</th>\n",
       "      <th>ingredients</th>\n",
       "      <th>instructions</th>\n",
       "      <th>ingredients_clean</th>\n",
       "      <th>instructions_clean</th>\n",
       "      <th>ingredients_instructions</th>\n",
       "      <th>ingredients_instructions_clean</th>\n",
       "    </tr>\n",
       "  </thead>\n",
       "  <tbody>\n",
       "    <tr>\n",
       "      <th>0</th>\n",
       "      <td>Ginisang Pusit</td>\n",
       "      <td>2 pounds squid, 1/2 cup vinegar, 4 cloves garl...</td>\n",
       "      <td>Hold the tail tube portion of the squid and wi...</td>\n",
       "      <td>squid vinegar bay leaf canola oil onion roma t...</td>\n",
       "      <td>hold tail tube portion squid finger pull cuttl...</td>\n",
       "      <td>2 pounds squid, 1/2 cup vinegar, 4 cloves garl...</td>\n",
       "      <td>squid vinegar bay leaf canola oil onion roma t...</td>\n",
       "    </tr>\n",
       "    <tr>\n",
       "      <th>1</th>\n",
       "      <td>Polvoron</td>\n",
       "      <td>2 cups flour, 1 cup powdered full cream milk (...</td>\n",
       "      <td>In a skillet over medium heat, add flour. Toas...</td>\n",
       "      <td>flour cream milk nido sugar butter pinipig cas...</td>\n",
       "      <td>skillet medium heat flour toast stir regularly...</td>\n",
       "      <td>2 cups flour, 1 cup powdered full cream milk (...</td>\n",
       "      <td>flour cream milk nido sugar butter pinipig cas...</td>\n",
       "    </tr>\n",
       "    <tr>\n",
       "      <th>2</th>\n",
       "      <td>Ube Maja Blanca</td>\n",
       "      <td>2 cups coconut cream, 2 cans (13.5 ounces each...</td>\n",
       "      <td>In a pan over medium heat, add coconut cream a...</td>\n",
       "      <td>coconut cream coconut milk milk milk mash suga...</td>\n",
       "      <td>pan medium heat coconut cream bring boil cook ...</td>\n",
       "      <td>2 cups coconut cream, 2 cans (13.5 ounces each...</td>\n",
       "      <td>coconut cream coconut milk milk milk mash suga...</td>\n",
       "    </tr>\n",
       "    <tr>\n",
       "      <th>3</th>\n",
       "      <td>Adobong Talaba</td>\n",
       "      <td>1 tablespoon canola oil, 2 tablespoons butter,...</td>\n",
       "      <td>In a pan over medium heat, heat oil. Add butte...</td>\n",
       "      <td>canola oil butter onion clove soy sauce pepper...</td>\n",
       "      <td>pan medium heat heat oil butter \\n onion garli...</td>\n",
       "      <td>1 tablespoon canola oil, 2 tablespoons butter,...</td>\n",
       "      <td>canola oil butter onion clove soy sauce pepper...</td>\n",
       "    </tr>\n",
       "    <tr>\n",
       "      <th>4</th>\n",
       "      <td>Miswa at Patola Soup</td>\n",
       "      <td>3 medium patola, 1 tablespoon canola oil, 1 on...</td>\n",
       "      <td>Cut off both ends of the patola and discard. U...</td>\n",
       "      <td>medium patola canola oil onion ground pork fis...</td>\n",
       "      <td>cut end patola discard vegetable peeler peel s...</td>\n",
       "      <td>3 medium patola, 1 tablespoon canola oil, 1 on...</td>\n",
       "      <td>medium patola canola oil onion ground pork fis...</td>\n",
       "    </tr>\n",
       "  </tbody>\n",
       "</table>\n",
       "</div>"
      ],
      "text/plain": [
       "                   food                                        ingredients  \\\n",
       "0        Ginisang Pusit  2 pounds squid, 1/2 cup vinegar, 4 cloves garl...   \n",
       "1              Polvoron  2 cups flour, 1 cup powdered full cream milk (...   \n",
       "2       Ube Maja Blanca  2 cups coconut cream, 2 cans (13.5 ounces each...   \n",
       "3        Adobong Talaba  1 tablespoon canola oil, 2 tablespoons butter,...   \n",
       "4  Miswa at Patola Soup  3 medium patola, 1 tablespoon canola oil, 1 on...   \n",
       "\n",
       "                                        instructions  \\\n",
       "0  Hold the tail tube portion of the squid and wi...   \n",
       "1  In a skillet over medium heat, add flour. Toas...   \n",
       "2  In a pan over medium heat, add coconut cream a...   \n",
       "3  In a pan over medium heat, heat oil. Add butte...   \n",
       "4  Cut off both ends of the patola and discard. U...   \n",
       "\n",
       "                                   ingredients_clean  \\\n",
       "0  squid vinegar bay leaf canola oil onion roma t...   \n",
       "1  flour cream milk nido sugar butter pinipig cas...   \n",
       "2  coconut cream coconut milk milk milk mash suga...   \n",
       "3  canola oil butter onion clove soy sauce pepper...   \n",
       "4  medium patola canola oil onion ground pork fis...   \n",
       "\n",
       "                                  instructions_clean  \\\n",
       "0  hold tail tube portion squid finger pull cuttl...   \n",
       "1  skillet medium heat flour toast stir regularly...   \n",
       "2  pan medium heat coconut cream bring boil cook ...   \n",
       "3  pan medium heat heat oil butter \\n onion garli...   \n",
       "4  cut end patola discard vegetable peeler peel s...   \n",
       "\n",
       "                            ingredients_instructions  \\\n",
       "0  2 pounds squid, 1/2 cup vinegar, 4 cloves garl...   \n",
       "1  2 cups flour, 1 cup powdered full cream milk (...   \n",
       "2  2 cups coconut cream, 2 cans (13.5 ounces each...   \n",
       "3  1 tablespoon canola oil, 2 tablespoons butter,...   \n",
       "4  3 medium patola, 1 tablespoon canola oil, 1 on...   \n",
       "\n",
       "                      ingredients_instructions_clean  \n",
       "0  squid vinegar bay leaf canola oil onion roma t...  \n",
       "1  flour cream milk nido sugar butter pinipig cas...  \n",
       "2  coconut cream coconut milk milk milk mash suga...  \n",
       "3  canola oil butter onion clove soy sauce pepper...  \n",
       "4  medium patola canola oil onion ground pork fis...  "
      ]
     },
     "execution_count": 157,
     "metadata": {},
     "output_type": "execute_result"
    }
   ],
   "source": [
    "df.head()"
   ]
  },
  {
   "cell_type": "code",
   "execution_count": 163,
   "id": "dd42d3da-6bf0-46e5-8b31-0a0fdf7e9186",
   "metadata": {},
   "outputs": [],
   "source": [
    "import nltk\n",
    "import matplotlib.pyplot as plt\n",
    "import numpy as np\n",
    "import pandas as pd\n",
    "import re\n",
    "import unicodedata\n",
    "\n",
    "from nltk.util import ngrams\n",
    "from sklearn.feature_extraction.text import CountVectorizer\n",
    "from sklearn.naive_bayes import MultinomialNB\n",
    "from sklearn.metrics import f1_score\n",
    "from sklearn.model_selection import train_test_split\n",
    "from sklearn.preprocessing import LabelEncoder"
   ]
  },
  {
   "cell_type": "code",
   "execution_count": 164,
   "id": "68369a41-3652-4c29-9801-da201302a2b5",
   "metadata": {},
   "outputs": [],
   "source": [
    "# Function to generate n-grams from sentences.\n",
    "def extract_ngrams(data, num):\n",
    "    n_grams = ngrams(nltk.word_tokenize(data), num)\n",
    "    return [ ' '.join(grams) for grams in n_grams]"
   ]
  },
  {
   "cell_type": "code",
   "execution_count": 165,
   "id": "118161d8-9cff-4ba6-bb56-29ef8a083966",
   "metadata": {},
   "outputs": [],
   "source": [
    "def basic_clean(text):\n",
    "    \"\"\"\n",
    "    A simple function to clean up the data. All the words that are not designated as a stop word is then lemmatized after\n",
    "    encoding and basic regex parsing are performed.\n",
    "    \"\"\"\n",
    "    wnl = nltk.stem.WordNetLemmatizer()\n",
    "    stopwords = nltk.corpus.stopwords.words('english')\n",
    "    text = (unicodedata.normalize('NFKD', text)\n",
    "    .encode('ascii', 'ignore')\n",
    "    .decode('utf-8', 'ignore')\n",
    "    .lower())\n",
    "    \n",
    "    words = re.sub(r'[^\\w\\s]', '', text).split()\n",
    "    \n",
    "    return [wnl.lemmatize(word) for word in words if word not in stopwords]"
   ]
  },
  {
   "cell_type": "code",
   "execution_count": 166,
   "id": "5101ecf6-834d-42ed-b919-411f66afc536",
   "metadata": {},
   "outputs": [
    {
     "data": {
      "text/plain": [
       "['squid',\n",
       " 'vinegar',\n",
       " 'bay',\n",
       " 'leaf',\n",
       " 'canola',\n",
       " 'oil',\n",
       " 'onion',\n",
       " 'rom',\n",
       " 'tomato',\n",
       " 'hold',\n",
       " 'tail',\n",
       " 'tube',\n",
       " 'portion',\n",
       " 'squid',\n",
       " 'finger',\n",
       " 'pull',\n",
       " 'cuttlebone',\n",
       " 'thin',\n",
       " 'clear',\n",
       " 'cartilage']"
      ]
     },
     "execution_count": 166,
     "metadata": {},
     "output_type": "execute_result"
    }
   ],
   "source": [
    "words = basic_clean(''.join(df['ingredients_instructions_clean'].tolist()))\n",
    "words[:20]"
   ]
  },
  {
   "cell_type": "code",
   "execution_count": 192,
   "id": "d68dd610-f84e-409a-9d7e-fbdd36fb1aa1",
   "metadata": {},
   "outputs": [
    {
     "data": {
      "text/plain": [
       "(medium, heat, heat)          297\n",
       "(salt, pepper, taste)         244\n",
       "(1, 2, minute)                228\n",
       "(season, salt, pepper)        225\n",
       "(cook, stir, regularly)       203\n",
       "(pan, medium, heat)           197\n",
       "(heat, heat, oil)             190\n",
       "(pot, medium, heat)           183\n",
       "(lower, heat, cover)          173\n",
       "(2, 3, minute)                167\n",
       "(3, 5, minute)                160\n",
       "(onion, garlic, cook)         155\n",
       "(cook, stir, occasionally)    147\n",
       "(cook, 1, 2)                  141\n",
       "(oil, onion, garlic)          137\n",
       "(drain, paper, towel)         125\n",
       "(remove, pan, drain)          123\n",
       "(garlic, cook, soften)        117\n",
       "(heat, oil, onion)            110\n",
       "(slot, spoon, remove)         105\n",
       "dtype: int64"
      ]
     },
     "execution_count": 192,
     "metadata": {},
     "output_type": "execute_result"
    }
   ],
   "source": [
    "trigrams_series = (pd.Series(nltk.ngrams(words, 3)).value_counts())[:20]\n",
    "trigrams_series"
   ]
  },
  {
   "cell_type": "code",
   "execution_count": 193,
   "id": "8f0f4b84-249b-4e6c-8ad1-9f69647422b7",
   "metadata": {},
   "outputs": [
    {
     "data": {
      "text/plain": [
       "<AxesSubplot:>"
      ]
     },
     "execution_count": 193,
     "metadata": {},
     "output_type": "execute_result"
    },
    {
     "data": {
      "image/png": "[encoded data removed]",
      "text/plain": [
       "<Figure size 864x576 with 1 Axes>"
      ]
     },
     "metadata": {
      "needs_background": "light"
     },
     "output_type": "display_data"
    }
   ],
   "source": [
    "trigrams_series.sort_values().plot.barh(color='blue', width=.9, figsize=(12, 8))"
   ]
  },
  {
   "cell_type": "code",
   "execution_count": 197,
   "id": "85cb5ea7-d8f2-4ac8-ae3b-f4f2daf28259",
   "metadata": {},
   "outputs": [
    {
     "data": {
      "text/plain": [
       "<AxesSubplot:>"
      ]
     },
     "execution_count": 197,
     "metadata": {},
     "output_type": "execute_result"
    },
    {
     "data": {
      "image/png": "[encoded data removed]",
      "text/plain": [
       "<Figure size 864x576 with 1 Axes>"
      ]
     },
     "metadata": {
      "needs_background": "light"
     },
     "output_type": "display_data"
    }
   ],
   "source": [
    "words = basic_clean(''.join(df['ingredients_clean'].tolist()))\n",
    "words[:20]\n",
    "bigrams_series = (pd.Series(nltk.ngrams(words, 2)).value_counts())[:20]\n",
    "bigrams_series\n",
    "bigrams_series.sort_values().plot.barh(color='blue', width=.9, figsize=(12, 8))"
   ]
  },
  {
   "cell_type": "code",
   "execution_count": null,
   "id": "7344f3eb-61f7-40f1-890b-7a5e4bc72d92",
   "metadata": {},
   "outputs": [],
   "source": []
  }
 ],
 "metadata": {
  "kernelspec": {
   "display_name": "Python 3 (ipykernel)",
   "language": "python",
   "name": "python3"
  },
  "language_info": {
   "codemirror_mode": {
    "name": "ipython",
    "version": 3
   },
   "file_extension": ".py",
   "mimetype": "text/x-python",
   "name": "python",
   "nbconvert_exporter": "python",
   "pygments_lexer": "ipython3",
   "version": "3.9.12"
  }
 },
 "nbformat": 4,
 "nbformat_minor": 5
}
