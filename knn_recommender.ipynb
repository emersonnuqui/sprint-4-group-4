{
 "cells": [
  {
   "cell_type": "code",
   "execution_count": 1,
   "metadata": {},
   "outputs": [],
   "source": [
    "import pickle\n",
    "import pandas as pd\n",
    "import numpy as np\n",
    "from sklearn.neighbors import NearestNeighbors\n",
    "from sklearn.feature_extraction.text import TfidfVectorizer"
   ]
  },
  {
   "cell_type": "code",
   "execution_count": 2,
   "metadata": {},
   "outputs": [],
   "source": [
    "## load all recipes\n",
    "all_recipes = pickle.load(open('data/all_recipes.pkl', 'rb'))"
   ]
  },
  {
   "cell_type": "code",
   "execution_count": 3,
   "metadata": {},
   "outputs": [
    {
     "data": {
      "text/html": [
       "<div>\n",
       "<style scoped>\n",
       "    .dataframe tbody tr th:only-of-type {\n",
       "        vertical-align: middle;\n",
       "    }\n",
       "\n",
       "    .dataframe tbody tr th {\n",
       "        vertical-align: top;\n",
       "    }\n",
       "\n",
       "    .dataframe thead th {\n",
       "        text-align: right;\n",
       "    }\n",
       "</style>\n",
       "<table border=\"1\" class=\"dataframe\">\n",
       "  <thead>\n",
       "    <tr style=\"text-align: right;\">\n",
       "      <th></th>\n",
       "      <th>food</th>\n",
       "      <th>course</th>\n",
       "      <th>ingredients</th>\n",
       "      <th>instructions</th>\n",
       "      <th>ingredients_clean</th>\n",
       "      <th>instructions_clean</th>\n",
       "      <th>course_clean</th>\n",
       "      <th>text_raw</th>\n",
       "      <th>text_clean</th>\n",
       "    </tr>\n",
       "  </thead>\n",
       "  <tbody>\n",
       "    <tr>\n",
       "      <th>0</th>\n",
       "      <td>Pinoy Chicken Sopas</td>\n",
       "      <td>Soup</td>\n",
       "      <td>1 lb. rotisserie chicken shredded, 2 Knorr Chi...</td>\n",
       "      <td>Heat cooking oil in a cooking pot. Sauté onion...</td>\n",
       "      <td>rotisserie chicken stalk celery oil fish sauce...</td>\n",
       "      <td>heat cooking oil cooking pot sauté onion garli...</td>\n",
       "      <td>soup</td>\n",
       "      <td>Soup 1 lb. rotisserie chicken shredded, 2 Knor...</td>\n",
       "      <td>Soup rotisserie chicken stalk celery oil fish ...</td>\n",
       "    </tr>\n",
       "    <tr>\n",
       "      <th>1</th>\n",
       "      <td>Popcorn Chicken and Gravy KFC Style Secret Recipe</td>\n",
       "      <td>Main Course</td>\n",
       "      <td>1 lb. boneless chicken breast cubed, 1 cup coo...</td>\n",
       "      <td>Start making the popcorn chicken by combining ...</td>\n",
       "      <td>chicken breast cooking oil buttermilk knorr li...</td>\n",
       "      <td>make popcorn chicken combine buttermilk knorr ...</td>\n",
       "      <td>main course</td>\n",
       "      <td>Main Course 1 lb. boneless chicken breast cube...</td>\n",
       "      <td>Main Course chicken breast cooking oil butterm...</td>\n",
       "    </tr>\n",
       "    <tr>\n",
       "      <th>2</th>\n",
       "      <td>Idol Cheesedog Bread Roll and Bites</td>\n",
       "      <td>Snacks</td>\n",
       "      <td>12 CDO Idol Cheesedog, 2 cups all-purpose flou...</td>\n",
       "      <td>Start making the idol bites by preparing the d...</td>\n",
       "      <td>cdo idol cheesedog purpose flour milk egg teas...</td>\n",
       "      <td>make idol bite prepare dough combine flour eva...</td>\n",
       "      <td>snack</td>\n",
       "      <td>Snacks 12 CDO Idol Cheesedog, 2 cups all-purpo...</td>\n",
       "      <td>Snacks cdo idol cheesedog purpose flour milk e...</td>\n",
       "    </tr>\n",
       "    <tr>\n",
       "      <th>3</th>\n",
       "      <td>Perfect Chicken Adobo on a Budget</td>\n",
       "      <td>Main Course</td>\n",
       "      <td>2 lbs. chicken cut into serving pieces, 1 Knor...</td>\n",
       "      <td>Combine chicken, soy sauce, vinegar, and 5 clo...</td>\n",
       "      <td>chicken clove garlic teaspoon sugar oil</td>\n",
       "      <td>combine chicken soy sauce vinegar 5 clove garl...</td>\n",
       "      <td>main course</td>\n",
       "      <td>Main Course 2 lbs. chicken cut into serving pi...</td>\n",
       "      <td>Main Course chicken clove garlic teaspoon suga...</td>\n",
       "    </tr>\n",
       "    <tr>\n",
       "      <th>4</th>\n",
       "      <td>Creamy Mushroom Chicken</td>\n",
       "      <td>Main Course</td>\n",
       "      <td>1 ½ lbs. chicken cut into serving pieces, 1 Kn...</td>\n",
       "      <td>Rub salt and ground black pepper all over the ...</td>\n",
       "      <td>chicken knorr chicken cube purpose cream onion...</td>\n",
       "      <td>rub salt ground black pepper chicken let stay ...</td>\n",
       "      <td>main course</td>\n",
       "      <td>Main Course 1 ½ lbs. chicken cut into serving ...</td>\n",
       "      <td>Main Course chicken knorr chicken cube purpose...</td>\n",
       "    </tr>\n",
       "  </tbody>\n",
       "</table>\n",
       "</div>"
      ],
      "text/plain": [
       "                                                food       course  \\\n",
       "0                                Pinoy Chicken Sopas         Soup   \n",
       "1  Popcorn Chicken and Gravy KFC Style Secret Recipe  Main Course   \n",
       "2                Idol Cheesedog Bread Roll and Bites       Snacks   \n",
       "3                  Perfect Chicken Adobo on a Budget  Main Course   \n",
       "4                            Creamy Mushroom Chicken  Main Course   \n",
       "\n",
       "                                         ingredients  \\\n",
       "0  1 lb. rotisserie chicken shredded, 2 Knorr Chi...   \n",
       "1  1 lb. boneless chicken breast cubed, 1 cup coo...   \n",
       "2  12 CDO Idol Cheesedog, 2 cups all-purpose flou...   \n",
       "3  2 lbs. chicken cut into serving pieces, 1 Knor...   \n",
       "4  1 ½ lbs. chicken cut into serving pieces, 1 Kn...   \n",
       "\n",
       "                                        instructions  \\\n",
       "0  Heat cooking oil in a cooking pot. Sauté onion...   \n",
       "1  Start making the popcorn chicken by combining ...   \n",
       "2  Start making the idol bites by preparing the d...   \n",
       "3  Combine chicken, soy sauce, vinegar, and 5 clo...   \n",
       "4  Rub salt and ground black pepper all over the ...   \n",
       "\n",
       "                                   ingredients_clean  \\\n",
       "0  rotisserie chicken stalk celery oil fish sauce...   \n",
       "1  chicken breast cooking oil buttermilk knorr li...   \n",
       "2  cdo idol cheesedog purpose flour milk egg teas...   \n",
       "3            chicken clove garlic teaspoon sugar oil   \n",
       "4  chicken knorr chicken cube purpose cream onion...   \n",
       "\n",
       "                                  instructions_clean course_clean  \\\n",
       "0  heat cooking oil cooking pot sauté onion garli...         soup   \n",
       "1  make popcorn chicken combine buttermilk knorr ...  main course   \n",
       "2  make idol bite prepare dough combine flour eva...        snack   \n",
       "3  combine chicken soy sauce vinegar 5 clove garl...  main course   \n",
       "4  rub salt ground black pepper chicken let stay ...  main course   \n",
       "\n",
       "                                            text_raw  \\\n",
       "0  Soup 1 lb. rotisserie chicken shredded, 2 Knor...   \n",
       "1  Main Course 1 lb. boneless chicken breast cube...   \n",
       "2  Snacks 12 CDO Idol Cheesedog, 2 cups all-purpo...   \n",
       "3  Main Course 2 lbs. chicken cut into serving pi...   \n",
       "4  Main Course 1 ½ lbs. chicken cut into serving ...   \n",
       "\n",
       "                                          text_clean  \n",
       "0  Soup rotisserie chicken stalk celery oil fish ...  \n",
       "1  Main Course chicken breast cooking oil butterm...  \n",
       "2  Snacks cdo idol cheesedog purpose flour milk e...  \n",
       "3  Main Course chicken clove garlic teaspoon suga...  \n",
       "4  Main Course chicken knorr chicken cube purpose...  "
      ]
     },
     "execution_count": 3,
     "metadata": {},
     "output_type": "execute_result"
    }
   ],
   "source": [
    "all_recipes = all_recipes.reset_index(drop = True)\n",
    "all_recipes.head()"
   ]
  },
  {
   "cell_type": "code",
   "execution_count": 4,
   "metadata": {},
   "outputs": [
    {
     "data": {
      "text/html": [
       "<div>\n",
       "<style scoped>\n",
       "    .dataframe tbody tr th:only-of-type {\n",
       "        vertical-align: middle;\n",
       "    }\n",
       "\n",
       "    .dataframe tbody tr th {\n",
       "        vertical-align: top;\n",
       "    }\n",
       "\n",
       "    .dataframe thead th {\n",
       "        text-align: right;\n",
       "    }\n",
       "</style>\n",
       "<table border=\"1\" class=\"dataframe\">\n",
       "  <thead>\n",
       "    <tr style=\"text-align: right;\">\n",
       "      <th></th>\n",
       "      <th>food</th>\n",
       "      <th>course</th>\n",
       "      <th>ingredients</th>\n",
       "      <th>instructions</th>\n",
       "      <th>ingredients_clean</th>\n",
       "      <th>instructions_clean</th>\n",
       "      <th>course_clean</th>\n",
       "      <th>text_raw</th>\n",
       "      <th>text_clean</th>\n",
       "    </tr>\n",
       "  </thead>\n",
       "  <tbody>\n",
       "    <tr>\n",
       "      <th>0</th>\n",
       "      <td>pinoy chicken sopas</td>\n",
       "      <td>Soup</td>\n",
       "      <td>1 lb. rotisserie chicken shredded, 2 Knorr Chi...</td>\n",
       "      <td>Heat cooking oil in a cooking pot. Sauté onion...</td>\n",
       "      <td>rotisserie chicken stalk celery oil fish sauce...</td>\n",
       "      <td>heat cooking oil cooking pot sauté onion garli...</td>\n",
       "      <td>soup</td>\n",
       "      <td>Soup 1 lb. rotisserie chicken shredded, 2 Knor...</td>\n",
       "      <td>Soup rotisserie chicken stalk celery oil fish ...</td>\n",
       "    </tr>\n",
       "    <tr>\n",
       "      <th>1</th>\n",
       "      <td>popcorn chicken and gravy kfc style secret recipe</td>\n",
       "      <td>Main Course</td>\n",
       "      <td>1 lb. boneless chicken breast cubed, 1 cup coo...</td>\n",
       "      <td>Start making the popcorn chicken by combining ...</td>\n",
       "      <td>chicken breast cooking oil buttermilk knorr li...</td>\n",
       "      <td>make popcorn chicken combine buttermilk knorr ...</td>\n",
       "      <td>main course</td>\n",
       "      <td>Main Course 1 lb. boneless chicken breast cube...</td>\n",
       "      <td>Main Course chicken breast cooking oil butterm...</td>\n",
       "    </tr>\n",
       "    <tr>\n",
       "      <th>2</th>\n",
       "      <td>idol cheesedog bread roll and bites</td>\n",
       "      <td>Snacks</td>\n",
       "      <td>12 CDO Idol Cheesedog, 2 cups all-purpose flou...</td>\n",
       "      <td>Start making the idol bites by preparing the d...</td>\n",
       "      <td>cdo idol cheesedog purpose flour milk egg teas...</td>\n",
       "      <td>make idol bite prepare dough combine flour eva...</td>\n",
       "      <td>snack</td>\n",
       "      <td>Snacks 12 CDO Idol Cheesedog, 2 cups all-purpo...</td>\n",
       "      <td>Snacks cdo idol cheesedog purpose flour milk e...</td>\n",
       "    </tr>\n",
       "    <tr>\n",
       "      <th>3</th>\n",
       "      <td>perfect chicken adobo on a budget</td>\n",
       "      <td>Main Course</td>\n",
       "      <td>2 lbs. chicken cut into serving pieces, 1 Knor...</td>\n",
       "      <td>Combine chicken, soy sauce, vinegar, and 5 clo...</td>\n",
       "      <td>chicken clove garlic teaspoon sugar oil</td>\n",
       "      <td>combine chicken soy sauce vinegar 5 clove garl...</td>\n",
       "      <td>main course</td>\n",
       "      <td>Main Course 2 lbs. chicken cut into serving pi...</td>\n",
       "      <td>Main Course chicken clove garlic teaspoon suga...</td>\n",
       "    </tr>\n",
       "    <tr>\n",
       "      <th>4</th>\n",
       "      <td>creamy mushroom chicken</td>\n",
       "      <td>Main Course</td>\n",
       "      <td>1 ½ lbs. chicken cut into serving pieces, 1 Kn...</td>\n",
       "      <td>Rub salt and ground black pepper all over the ...</td>\n",
       "      <td>chicken knorr chicken cube purpose cream onion...</td>\n",
       "      <td>rub salt ground black pepper chicken let stay ...</td>\n",
       "      <td>main course</td>\n",
       "      <td>Main Course 1 ½ lbs. chicken cut into serving ...</td>\n",
       "      <td>Main Course chicken knorr chicken cube purpose...</td>\n",
       "    </tr>\n",
       "  </tbody>\n",
       "</table>\n",
       "</div>"
      ],
      "text/plain": [
       "                                                food       course  \\\n",
       "0                                pinoy chicken sopas         Soup   \n",
       "1  popcorn chicken and gravy kfc style secret recipe  Main Course   \n",
       "2                idol cheesedog bread roll and bites       Snacks   \n",
       "3                  perfect chicken adobo on a budget  Main Course   \n",
       "4                            creamy mushroom chicken  Main Course   \n",
       "\n",
       "                                         ingredients  \\\n",
       "0  1 lb. rotisserie chicken shredded, 2 Knorr Chi...   \n",
       "1  1 lb. boneless chicken breast cubed, 1 cup coo...   \n",
       "2  12 CDO Idol Cheesedog, 2 cups all-purpose flou...   \n",
       "3  2 lbs. chicken cut into serving pieces, 1 Knor...   \n",
       "4  1 ½ lbs. chicken cut into serving pieces, 1 Kn...   \n",
       "\n",
       "                                        instructions  \\\n",
       "0  Heat cooking oil in a cooking pot. Sauté onion...   \n",
       "1  Start making the popcorn chicken by combining ...   \n",
       "2  Start making the idol bites by preparing the d...   \n",
       "3  Combine chicken, soy sauce, vinegar, and 5 clo...   \n",
       "4  Rub salt and ground black pepper all over the ...   \n",
       "\n",
       "                                   ingredients_clean  \\\n",
       "0  rotisserie chicken stalk celery oil fish sauce...   \n",
       "1  chicken breast cooking oil buttermilk knorr li...   \n",
       "2  cdo idol cheesedog purpose flour milk egg teas...   \n",
       "3            chicken clove garlic teaspoon sugar oil   \n",
       "4  chicken knorr chicken cube purpose cream onion...   \n",
       "\n",
       "                                  instructions_clean course_clean  \\\n",
       "0  heat cooking oil cooking pot sauté onion garli...         soup   \n",
       "1  make popcorn chicken combine buttermilk knorr ...  main course   \n",
       "2  make idol bite prepare dough combine flour eva...        snack   \n",
       "3  combine chicken soy sauce vinegar 5 clove garl...  main course   \n",
       "4  rub salt ground black pepper chicken let stay ...  main course   \n",
       "\n",
       "                                            text_raw  \\\n",
       "0  Soup 1 lb. rotisserie chicken shredded, 2 Knor...   \n",
       "1  Main Course 1 lb. boneless chicken breast cube...   \n",
       "2  Snacks 12 CDO Idol Cheesedog, 2 cups all-purpo...   \n",
       "3  Main Course 2 lbs. chicken cut into serving pi...   \n",
       "4  Main Course 1 ½ lbs. chicken cut into serving ...   \n",
       "\n",
       "                                          text_clean  \n",
       "0  Soup rotisserie chicken stalk celery oil fish ...  \n",
       "1  Main Course chicken breast cooking oil butterm...  \n",
       "2  Snacks cdo idol cheesedog purpose flour milk e...  \n",
       "3  Main Course chicken clove garlic teaspoon suga...  \n",
       "4  Main Course chicken knorr chicken cube purpose...  "
      ]
     },
     "execution_count": 4,
     "metadata": {},
     "output_type": "execute_result"
    }
   ],
   "source": [
    "## convert food column to lower\n",
    "all_recipes['food'] = all_recipes['food'].str.lower()\n",
    "all_recipes.head()"
   ]
  },
  {
   "cell_type": "code",
   "execution_count": 5,
   "metadata": {},
   "outputs": [],
   "source": [
    "## input recipe\n",
    "input_recipe = 'pork adobo'"
   ]
  },
  {
   "cell_type": "code",
   "execution_count": 6,
   "metadata": {},
   "outputs": [
    {
     "data": {
      "text/html": [
       "<div>\n",
       "<style scoped>\n",
       "    .dataframe tbody tr th:only-of-type {\n",
       "        vertical-align: middle;\n",
       "    }\n",
       "\n",
       "    .dataframe tbody tr th {\n",
       "        vertical-align: top;\n",
       "    }\n",
       "\n",
       "    .dataframe thead th {\n",
       "        text-align: right;\n",
       "    }\n",
       "</style>\n",
       "<table border=\"1\" class=\"dataframe\">\n",
       "  <thead>\n",
       "    <tr style=\"text-align: right;\">\n",
       "      <th></th>\n",
       "      <th>food</th>\n",
       "      <th>course</th>\n",
       "      <th>ingredients</th>\n",
       "      <th>instructions</th>\n",
       "      <th>ingredients_clean</th>\n",
       "      <th>instructions_clean</th>\n",
       "      <th>course_clean</th>\n",
       "      <th>text_raw</th>\n",
       "      <th>text_clean</th>\n",
       "    </tr>\n",
       "  </thead>\n",
       "  <tbody>\n",
       "    <tr>\n",
       "      <th>2416</th>\n",
       "      <td>pork adobo</td>\n",
       "      <td>Main Course</td>\n",
       "      <td>2 pounds pork belly, cut into 2-inch cubes, 1 ...</td>\n",
       "      <td>In a bowl, combine pork, onions, garlic, bay l...</td>\n",
       "      <td>pork belly inch cube onion head garlic salt pe...</td>\n",
       "      <td>bowl combine pork onion garlic bay leave salt ...</td>\n",
       "      <td>main course</td>\n",
       "      <td>Main Course 2 pounds pork belly, cut into 2-in...</td>\n",
       "      <td>Main Course pork belly inch cube onion head ga...</td>\n",
       "    </tr>\n",
       "  </tbody>\n",
       "</table>\n",
       "</div>"
      ],
      "text/plain": [
       "            food       course  \\\n",
       "2416  pork adobo  Main Course   \n",
       "\n",
       "                                            ingredients  \\\n",
       "2416  2 pounds pork belly, cut into 2-inch cubes, 1 ...   \n",
       "\n",
       "                                           instructions  \\\n",
       "2416  In a bowl, combine pork, onions, garlic, bay l...   \n",
       "\n",
       "                                      ingredients_clean  \\\n",
       "2416  pork belly inch cube onion head garlic salt pe...   \n",
       "\n",
       "                                     instructions_clean course_clean  \\\n",
       "2416  bowl combine pork onion garlic bay leave salt ...  main course   \n",
       "\n",
       "                                               text_raw  \\\n",
       "2416  Main Course 2 pounds pork belly, cut into 2-in...   \n",
       "\n",
       "                                             text_clean  \n",
       "2416  Main Course pork belly inch cube onion head ga...  "
      ]
     },
     "execution_count": 6,
     "metadata": {},
     "output_type": "execute_result"
    }
   ],
   "source": [
    "# all_recipes[all_recipes['food'].str.contains(input_recipe)] ## output all the recipes with pork adobo in food\n",
    "all_recipes[all_recipes['food'] == input_recipe]"
   ]
  },
  {
   "cell_type": "code",
   "execution_count": 7,
   "metadata": {},
   "outputs": [],
   "source": [
    "# filter out input recipe in df\n",
    "input_df = all_recipes[all_recipes['food'] == input_recipe]\n",
    "matching_df = all_recipes[all_recipes['food'] != input_recipe]"
   ]
  },
  {
   "cell_type": "code",
   "execution_count": 8,
   "metadata": {},
   "outputs": [
    {
     "data": {
      "text/html": [
       "<div>\n",
       "<style scoped>\n",
       "    .dataframe tbody tr th:only-of-type {\n",
       "        vertical-align: middle;\n",
       "    }\n",
       "\n",
       "    .dataframe tbody tr th {\n",
       "        vertical-align: top;\n",
       "    }\n",
       "\n",
       "    .dataframe thead th {\n",
       "        text-align: right;\n",
       "    }\n",
       "</style>\n",
       "<table border=\"1\" class=\"dataframe\">\n",
       "  <thead>\n",
       "    <tr style=\"text-align: right;\">\n",
       "      <th></th>\n",
       "      <th>food</th>\n",
       "      <th>course</th>\n",
       "      <th>ingredients</th>\n",
       "      <th>instructions</th>\n",
       "      <th>ingredients_clean</th>\n",
       "      <th>instructions_clean</th>\n",
       "      <th>course_clean</th>\n",
       "      <th>text_raw</th>\n",
       "      <th>text_clean</th>\n",
       "    </tr>\n",
       "  </thead>\n",
       "  <tbody>\n",
       "    <tr>\n",
       "      <th>2416</th>\n",
       "      <td>pork adobo</td>\n",
       "      <td>Main Course</td>\n",
       "      <td>2 pounds pork belly, cut into 2-inch cubes, 1 ...</td>\n",
       "      <td>In a bowl, combine pork, onions, garlic, bay l...</td>\n",
       "      <td>pork belly inch cube onion head garlic salt pe...</td>\n",
       "      <td>bowl combine pork onion garlic bay leave salt ...</td>\n",
       "      <td>main course</td>\n",
       "      <td>Main Course 2 pounds pork belly, cut into 2-in...</td>\n",
       "      <td>Main Course pork belly inch cube onion head ga...</td>\n",
       "    </tr>\n",
       "  </tbody>\n",
       "</table>\n",
       "</div>"
      ],
      "text/plain": [
       "            food       course  \\\n",
       "2416  pork adobo  Main Course   \n",
       "\n",
       "                                            ingredients  \\\n",
       "2416  2 pounds pork belly, cut into 2-inch cubes, 1 ...   \n",
       "\n",
       "                                           instructions  \\\n",
       "2416  In a bowl, combine pork, onions, garlic, bay l...   \n",
       "\n",
       "                                      ingredients_clean  \\\n",
       "2416  pork belly inch cube onion head garlic salt pe...   \n",
       "\n",
       "                                     instructions_clean course_clean  \\\n",
       "2416  bowl combine pork onion garlic bay leave salt ...  main course   \n",
       "\n",
       "                                               text_raw  \\\n",
       "2416  Main Course 2 pounds pork belly, cut into 2-in...   \n",
       "\n",
       "                                             text_clean  \n",
       "2416  Main Course pork belly inch cube onion head ga...  "
      ]
     },
     "execution_count": 8,
     "metadata": {},
     "output_type": "execute_result"
    }
   ],
   "source": [
    "input_df"
   ]
  },
  {
   "cell_type": "code",
   "execution_count": 9,
   "metadata": {},
   "outputs": [
    {
     "data": {
      "text/html": [
       "<div>\n",
       "<style scoped>\n",
       "    .dataframe tbody tr th:only-of-type {\n",
       "        vertical-align: middle;\n",
       "    }\n",
       "\n",
       "    .dataframe tbody tr th {\n",
       "        vertical-align: top;\n",
       "    }\n",
       "\n",
       "    .dataframe thead th {\n",
       "        text-align: right;\n",
       "    }\n",
       "</style>\n",
       "<table border=\"1\" class=\"dataframe\">\n",
       "  <thead>\n",
       "    <tr style=\"text-align: right;\">\n",
       "      <th></th>\n",
       "      <th>food</th>\n",
       "      <th>course</th>\n",
       "      <th>ingredients</th>\n",
       "      <th>instructions</th>\n",
       "      <th>ingredients_clean</th>\n",
       "      <th>instructions_clean</th>\n",
       "      <th>course_clean</th>\n",
       "      <th>text_raw</th>\n",
       "      <th>text_clean</th>\n",
       "    </tr>\n",
       "  </thead>\n",
       "  <tbody>\n",
       "    <tr>\n",
       "      <th>0</th>\n",
       "      <td>pinoy chicken sopas</td>\n",
       "      <td>Soup</td>\n",
       "      <td>1 lb. rotisserie chicken shredded, 2 Knorr Chi...</td>\n",
       "      <td>Heat cooking oil in a cooking pot. Sauté onion...</td>\n",
       "      <td>rotisserie chicken stalk celery oil fish sauce...</td>\n",
       "      <td>heat cooking oil cooking pot sauté onion garli...</td>\n",
       "      <td>soup</td>\n",
       "      <td>Soup 1 lb. rotisserie chicken shredded, 2 Knor...</td>\n",
       "      <td>Soup rotisserie chicken stalk celery oil fish ...</td>\n",
       "    </tr>\n",
       "    <tr>\n",
       "      <th>1</th>\n",
       "      <td>popcorn chicken and gravy kfc style secret recipe</td>\n",
       "      <td>Main Course</td>\n",
       "      <td>1 lb. boneless chicken breast cubed, 1 cup coo...</td>\n",
       "      <td>Start making the popcorn chicken by combining ...</td>\n",
       "      <td>chicken breast cooking oil buttermilk knorr li...</td>\n",
       "      <td>make popcorn chicken combine buttermilk knorr ...</td>\n",
       "      <td>main course</td>\n",
       "      <td>Main Course 1 lb. boneless chicken breast cube...</td>\n",
       "      <td>Main Course chicken breast cooking oil butterm...</td>\n",
       "    </tr>\n",
       "    <tr>\n",
       "      <th>2</th>\n",
       "      <td>idol cheesedog bread roll and bites</td>\n",
       "      <td>Snacks</td>\n",
       "      <td>12 CDO Idol Cheesedog, 2 cups all-purpose flou...</td>\n",
       "      <td>Start making the idol bites by preparing the d...</td>\n",
       "      <td>cdo idol cheesedog purpose flour milk egg teas...</td>\n",
       "      <td>make idol bite prepare dough combine flour eva...</td>\n",
       "      <td>snack</td>\n",
       "      <td>Snacks 12 CDO Idol Cheesedog, 2 cups all-purpo...</td>\n",
       "      <td>Snacks cdo idol cheesedog purpose flour milk e...</td>\n",
       "    </tr>\n",
       "    <tr>\n",
       "      <th>3</th>\n",
       "      <td>perfect chicken adobo on a budget</td>\n",
       "      <td>Main Course</td>\n",
       "      <td>2 lbs. chicken cut into serving pieces, 1 Knor...</td>\n",
       "      <td>Combine chicken, soy sauce, vinegar, and 5 clo...</td>\n",
       "      <td>chicken clove garlic teaspoon sugar oil</td>\n",
       "      <td>combine chicken soy sauce vinegar 5 clove garl...</td>\n",
       "      <td>main course</td>\n",
       "      <td>Main Course 2 lbs. chicken cut into serving pi...</td>\n",
       "      <td>Main Course chicken clove garlic teaspoon suga...</td>\n",
       "    </tr>\n",
       "    <tr>\n",
       "      <th>4</th>\n",
       "      <td>creamy mushroom chicken</td>\n",
       "      <td>Main Course</td>\n",
       "      <td>1 ½ lbs. chicken cut into serving pieces, 1 Kn...</td>\n",
       "      <td>Rub salt and ground black pepper all over the ...</td>\n",
       "      <td>chicken knorr chicken cube purpose cream onion...</td>\n",
       "      <td>rub salt ground black pepper chicken let stay ...</td>\n",
       "      <td>main course</td>\n",
       "      <td>Main Course 1 ½ lbs. chicken cut into serving ...</td>\n",
       "      <td>Main Course chicken knorr chicken cube purpose...</td>\n",
       "    </tr>\n",
       "  </tbody>\n",
       "</table>\n",
       "</div>"
      ],
      "text/plain": [
       "                                                food       course  \\\n",
       "0                                pinoy chicken sopas         Soup   \n",
       "1  popcorn chicken and gravy kfc style secret recipe  Main Course   \n",
       "2                idol cheesedog bread roll and bites       Snacks   \n",
       "3                  perfect chicken adobo on a budget  Main Course   \n",
       "4                            creamy mushroom chicken  Main Course   \n",
       "\n",
       "                                         ingredients  \\\n",
       "0  1 lb. rotisserie chicken shredded, 2 Knorr Chi...   \n",
       "1  1 lb. boneless chicken breast cubed, 1 cup coo...   \n",
       "2  12 CDO Idol Cheesedog, 2 cups all-purpose flou...   \n",
       "3  2 lbs. chicken cut into serving pieces, 1 Knor...   \n",
       "4  1 ½ lbs. chicken cut into serving pieces, 1 Kn...   \n",
       "\n",
       "                                        instructions  \\\n",
       "0  Heat cooking oil in a cooking pot. Sauté onion...   \n",
       "1  Start making the popcorn chicken by combining ...   \n",
       "2  Start making the idol bites by preparing the d...   \n",
       "3  Combine chicken, soy sauce, vinegar, and 5 clo...   \n",
       "4  Rub salt and ground black pepper all over the ...   \n",
       "\n",
       "                                   ingredients_clean  \\\n",
       "0  rotisserie chicken stalk celery oil fish sauce...   \n",
       "1  chicken breast cooking oil buttermilk knorr li...   \n",
       "2  cdo idol cheesedog purpose flour milk egg teas...   \n",
       "3            chicken clove garlic teaspoon sugar oil   \n",
       "4  chicken knorr chicken cube purpose cream onion...   \n",
       "\n",
       "                                  instructions_clean course_clean  \\\n",
       "0  heat cooking oil cooking pot sauté onion garli...         soup   \n",
       "1  make popcorn chicken combine buttermilk knorr ...  main course   \n",
       "2  make idol bite prepare dough combine flour eva...        snack   \n",
       "3  combine chicken soy sauce vinegar 5 clove garl...  main course   \n",
       "4  rub salt ground black pepper chicken let stay ...  main course   \n",
       "\n",
       "                                            text_raw  \\\n",
       "0  Soup 1 lb. rotisserie chicken shredded, 2 Knor...   \n",
       "1  Main Course 1 lb. boneless chicken breast cube...   \n",
       "2  Snacks 12 CDO Idol Cheesedog, 2 cups all-purpo...   \n",
       "3  Main Course 2 lbs. chicken cut into serving pi...   \n",
       "4  Main Course 1 ½ lbs. chicken cut into serving ...   \n",
       "\n",
       "                                          text_clean  \n",
       "0  Soup rotisserie chicken stalk celery oil fish ...  \n",
       "1  Main Course chicken breast cooking oil butterm...  \n",
       "2  Snacks cdo idol cheesedog purpose flour milk e...  \n",
       "3  Main Course chicken clove garlic teaspoon suga...  \n",
       "4  Main Course chicken knorr chicken cube purpose...  "
      ]
     },
     "execution_count": 9,
     "metadata": {},
     "output_type": "execute_result"
    }
   ],
   "source": [
    "matching_df.head()"
   ]
  },
  {
   "cell_type": "code",
   "execution_count": 10,
   "metadata": {},
   "outputs": [],
   "source": [
    "#initializing tfidf vectorizer\n",
    "tfidf_vectorizer = TfidfVectorizer()"
   ]
  },
  {
   "cell_type": "code",
   "execution_count": 11,
   "metadata": {},
   "outputs": [
    {
     "data": {
      "text/plain": [
       "<2417x3253 sparse matrix of type '<class 'numpy.float64'>'\n",
       "\twith 128486 stored elements in Compressed Sparse Row format>"
      ]
     },
     "execution_count": 11,
     "metadata": {},
     "output_type": "execute_result"
    }
   ],
   "source": [
    "matching_tfidf = tfidf_vectorizer.fit_transform((matching_df['text_clean'])) #fitting and transforming the vector\n",
    "matching_tfidf"
   ]
  },
  {
   "cell_type": "code",
   "execution_count": 12,
   "metadata": {},
   "outputs": [
    {
     "data": {
      "text/plain": [
       "<1x3253 sparse matrix of type '<class 'numpy.float64'>'\n",
       "\twith 51 stored elements in Compressed Sparse Row format>"
      ]
     },
     "execution_count": 12,
     "metadata": {},
     "output_type": "execute_result"
    }
   ],
   "source": [
    "# tfidf for input recipe\n",
    "input_tfidf = tfidf_vectorizer.transform(input_df['text_clean'])\n",
    "input_tfidf"
   ]
  },
  {
   "cell_type": "code",
   "execution_count": 13,
   "metadata": {},
   "outputs": [],
   "source": [
    "\n",
    "from sklearn.neighbors import NearestNeighbors\n",
    "n_neighbors = 11\n",
    "KNN = NearestNeighbors(n_neighbors = n_neighbors, p=2)\n",
    "KNN.fit(matching_tfidf)\n",
    "NNs = KNN.kneighbors(input_tfidf, return_distance=True) "
   ]
  },
  {
   "cell_type": "code",
   "execution_count": 14,
   "metadata": {},
   "outputs": [],
   "source": [
    "def get_recommendation(top, df_all, scores):\n",
    "  recommendation = pd.DataFrame(columns = ['food', 'match_food',  'ingredients', 'score'])\n",
    "  count = 0\n",
    "  for i in top:\n",
    "      recommendation.at[count, 'food'] = input_df['food']\n",
    "      recommendation.at[count, 'match_food'] = df_all['food'][i]\n",
    "      recommendation.at[count, 'ingredients'] = df_all['ingredients'][i]\n",
    "      recommendation.at[count, 'score'] =  scores[count]\n",
    "      count += 1\n",
    "  return recommendation"
   ]
  },
  {
   "cell_type": "code",
   "execution_count": 15,
   "metadata": {},
   "outputs": [
    {
     "ename": "NameError",
     "evalue": "name 'index_score' is not defined",
     "output_type": "error",
     "traceback": [
      "\u001b[1;31m---------------------------------------------------------------------------\u001b[0m",
      "\u001b[1;31mNameError\u001b[0m                                 Traceback (most recent call last)",
      "Cell \u001b[1;32mIn [15], line 1\u001b[0m\n\u001b[1;32m----> 1\u001b[0m index_score\n",
      "\u001b[1;31mNameError\u001b[0m: name 'index_score' is not defined"
     ]
    }
   ],
   "source": [
    "index_score"
   ]
  },
  {
   "cell_type": "code",
   "execution_count": null,
   "metadata": {},
   "outputs": [
    {
     "data": {
      "text/plain": [
       "array([2053, 2066, 2000, 2113, 1991, 2323, 2073, 1426, 2155, 2065],\n",
       "      dtype=int64)"
      ]
     },
     "execution_count": 114,
     "metadata": {},
     "output_type": "execute_result"
    }
   ],
   "source": [
    "top"
   ]
  },
  {
   "cell_type": "code",
   "execution_count": null,
   "metadata": {},
   "outputs": [
    {
     "data": {
      "text/plain": [
       "'chicken and pork adobo'"
      ]
     },
     "execution_count": 124,
     "metadata": {},
     "output_type": "execute_result"
    }
   ],
   "source": [
    "matching_df['food'][1954]"
   ]
  },
  {
   "cell_type": "code",
   "execution_count": null,
   "metadata": {},
   "outputs": [
    {
     "data": {
      "text/plain": [
       "array([1954, 2053, 2066, 2000, 2113, 1991, 2323, 2073, 1426, 2155, 2065],\n",
       "      dtype=int64)"
      ]
     },
     "execution_count": 123,
     "metadata": {},
     "output_type": "execute_result"
    }
   ],
   "source": [
    "NNs[1][0]#[1:]"
   ]
  },
  {
   "cell_type": "code",
   "execution_count": 16,
   "metadata": {},
   "outputs": [
    {
     "ename": "ValueError",
     "evalue": "Incompatible indexer with Series",
     "output_type": "error",
     "traceback": [
      "\u001b[1;31m---------------------------------------------------------------------------\u001b[0m",
      "\u001b[1;31mKeyError\u001b[0m                                  Traceback (most recent call last)",
      "File \u001b[1;32mc:\\Users\\Karen\\Desktop\\eskwelabs\\SP4\\scripting_101\\lib\\site-packages\\pandas\\core\\indexes\\base.py:3803\u001b[0m, in \u001b[0;36mIndex.get_loc\u001b[1;34m(self, key, method, tolerance)\u001b[0m\n\u001b[0;32m   3802\u001b[0m \u001b[39mtry\u001b[39;00m:\n\u001b[1;32m-> 3803\u001b[0m     \u001b[39mreturn\u001b[39;00m \u001b[39mself\u001b[39;49m\u001b[39m.\u001b[39;49m_engine\u001b[39m.\u001b[39;49mget_loc(casted_key)\n\u001b[0;32m   3804\u001b[0m \u001b[39mexcept\u001b[39;00m \u001b[39mKeyError\u001b[39;00m \u001b[39mas\u001b[39;00m err:\n",
      "File \u001b[1;32mc:\\Users\\Karen\\Desktop\\eskwelabs\\SP4\\scripting_101\\lib\\site-packages\\pandas\\_libs\\index.pyx:138\u001b[0m, in \u001b[0;36mpandas._libs.index.IndexEngine.get_loc\u001b[1;34m()\u001b[0m\n",
      "File \u001b[1;32mc:\\Users\\Karen\\Desktop\\eskwelabs\\SP4\\scripting_101\\lib\\site-packages\\pandas\\_libs\\index.pyx:165\u001b[0m, in \u001b[0;36mpandas._libs.index.IndexEngine.get_loc\u001b[1;34m()\u001b[0m\n",
      "File \u001b[1;32mpandas\\_libs\\hashtable_class_helper.pxi:5745\u001b[0m, in \u001b[0;36mpandas._libs.hashtable.PyObjectHashTable.get_item\u001b[1;34m()\u001b[0m\n",
      "File \u001b[1;32mpandas\\_libs\\hashtable_class_helper.pxi:5753\u001b[0m, in \u001b[0;36mpandas._libs.hashtable.PyObjectHashTable.get_item\u001b[1;34m()\u001b[0m\n",
      "\u001b[1;31mKeyError\u001b[0m: 0",
      "\nThe above exception was the direct cause of the following exception:\n",
      "\u001b[1;31mKeyError\u001b[0m                                  Traceback (most recent call last)",
      "File \u001b[1;32mc:\\Users\\Karen\\Desktop\\eskwelabs\\SP4\\scripting_101\\lib\\site-packages\\pandas\\core\\frame.py:4208\u001b[0m, in \u001b[0;36mDataFrame._set_value\u001b[1;34m(self, index, col, value, takeable)\u001b[0m\n\u001b[0;32m   4207\u001b[0m     icol \u001b[39m=\u001b[39m \u001b[39mself\u001b[39m\u001b[39m.\u001b[39mcolumns\u001b[39m.\u001b[39mget_loc(col)\n\u001b[1;32m-> 4208\u001b[0m     iindex \u001b[39m=\u001b[39m \u001b[39mself\u001b[39;49m\u001b[39m.\u001b[39;49mindex\u001b[39m.\u001b[39;49mget_loc(index)\n\u001b[0;32m   4209\u001b[0m \u001b[39mself\u001b[39m\u001b[39m.\u001b[39m_mgr\u001b[39m.\u001b[39mcolumn_setitem(icol, iindex, value)\n",
      "File \u001b[1;32mc:\\Users\\Karen\\Desktop\\eskwelabs\\SP4\\scripting_101\\lib\\site-packages\\pandas\\core\\indexes\\base.py:3805\u001b[0m, in \u001b[0;36mIndex.get_loc\u001b[1;34m(self, key, method, tolerance)\u001b[0m\n\u001b[0;32m   3804\u001b[0m \u001b[39mexcept\u001b[39;00m \u001b[39mKeyError\u001b[39;00m \u001b[39mas\u001b[39;00m err:\n\u001b[1;32m-> 3805\u001b[0m     \u001b[39mraise\u001b[39;00m \u001b[39mKeyError\u001b[39;00m(key) \u001b[39mfrom\u001b[39;00m \u001b[39merr\u001b[39;00m\n\u001b[0;32m   3806\u001b[0m \u001b[39mexcept\u001b[39;00m \u001b[39mTypeError\u001b[39;00m:\n\u001b[0;32m   3807\u001b[0m     \u001b[39m# If we have a listlike key, _check_indexing_error will raise\u001b[39;00m\n\u001b[0;32m   3808\u001b[0m     \u001b[39m#  InvalidIndexError. Otherwise we fall through and re-raise\u001b[39;00m\n\u001b[0;32m   3809\u001b[0m     \u001b[39m#  the TypeError.\u001b[39;00m\n",
      "\u001b[1;31mKeyError\u001b[0m: 0",
      "\nDuring handling of the above exception, another exception occurred:\n",
      "\u001b[1;31mValueError\u001b[0m                                Traceback (most recent call last)",
      "Cell \u001b[1;32mIn [16], line 4\u001b[0m\n\u001b[0;32m      1\u001b[0m top \u001b[39m=\u001b[39m NNs[\u001b[39m1\u001b[39m][\u001b[39m0\u001b[39m][\u001b[39m1\u001b[39m:]\n\u001b[0;32m      2\u001b[0m index_score \u001b[39m=\u001b[39m NNs[\u001b[39m0\u001b[39m][\u001b[39m0\u001b[39m][\u001b[39m1\u001b[39m:]\n\u001b[1;32m----> 4\u001b[0m get_recommendation(top, matching_df, index_score)\n",
      "Cell \u001b[1;32mIn [14], line 5\u001b[0m, in \u001b[0;36mget_recommendation\u001b[1;34m(top, df_all, scores)\u001b[0m\n\u001b[0;32m      3\u001b[0m count \u001b[39m=\u001b[39m \u001b[39m0\u001b[39m\n\u001b[0;32m      4\u001b[0m \u001b[39mfor\u001b[39;00m i \u001b[39min\u001b[39;00m top:\n\u001b[1;32m----> 5\u001b[0m     recommendation\u001b[39m.\u001b[39;49mat[count, \u001b[39m'\u001b[39;49m\u001b[39mfood\u001b[39;49m\u001b[39m'\u001b[39;49m] \u001b[39m=\u001b[39m input_df[\u001b[39m'\u001b[39m\u001b[39mfood\u001b[39m\u001b[39m'\u001b[39m]\n\u001b[0;32m      6\u001b[0m     recommendation\u001b[39m.\u001b[39mat[count, \u001b[39m'\u001b[39m\u001b[39mmatch_food\u001b[39m\u001b[39m'\u001b[39m] \u001b[39m=\u001b[39m df_all[\u001b[39m'\u001b[39m\u001b[39mfood\u001b[39m\u001b[39m'\u001b[39m][i]\n\u001b[0;32m      7\u001b[0m     recommendation\u001b[39m.\u001b[39mat[count, \u001b[39m'\u001b[39m\u001b[39mingredients\u001b[39m\u001b[39m'\u001b[39m] \u001b[39m=\u001b[39m df_all[\u001b[39m'\u001b[39m\u001b[39mingredients\u001b[39m\u001b[39m'\u001b[39m][i]\n",
      "File \u001b[1;32mc:\\Users\\Karen\\Desktop\\eskwelabs\\SP4\\scripting_101\\lib\\site-packages\\pandas\\core\\indexing.py:2442\u001b[0m, in \u001b[0;36m_AtIndexer.__setitem__\u001b[1;34m(self, key, value)\u001b[0m\n\u001b[0;32m   2439\u001b[0m     \u001b[39mself\u001b[39m\u001b[39m.\u001b[39mobj\u001b[39m.\u001b[39mloc[key] \u001b[39m=\u001b[39m value\n\u001b[0;32m   2440\u001b[0m     \u001b[39mreturn\u001b[39;00m\n\u001b[1;32m-> 2442\u001b[0m \u001b[39mreturn\u001b[39;00m \u001b[39msuper\u001b[39;49m()\u001b[39m.\u001b[39;49m\u001b[39m__setitem__\u001b[39;49m(key, value)\n",
      "File \u001b[1;32mc:\\Users\\Karen\\Desktop\\eskwelabs\\SP4\\scripting_101\\lib\\site-packages\\pandas\\core\\indexing.py:2397\u001b[0m, in \u001b[0;36m_ScalarAccessIndexer.__setitem__\u001b[1;34m(self, key, value)\u001b[0m\n\u001b[0;32m   2394\u001b[0m \u001b[39mif\u001b[39;00m \u001b[39mlen\u001b[39m(key) \u001b[39m!=\u001b[39m \u001b[39mself\u001b[39m\u001b[39m.\u001b[39mndim:\n\u001b[0;32m   2395\u001b[0m     \u001b[39mraise\u001b[39;00m \u001b[39mValueError\u001b[39;00m(\u001b[39m\"\u001b[39m\u001b[39mNot enough indexers for scalar access (setting)!\u001b[39m\u001b[39m\"\u001b[39m)\n\u001b[1;32m-> 2397\u001b[0m \u001b[39mself\u001b[39;49m\u001b[39m.\u001b[39;49mobj\u001b[39m.\u001b[39;49m_set_value(\u001b[39m*\u001b[39;49mkey, value\u001b[39m=\u001b[39;49mvalue, takeable\u001b[39m=\u001b[39;49m\u001b[39mself\u001b[39;49m\u001b[39m.\u001b[39;49m_takeable)\n",
      "File \u001b[1;32mc:\\Users\\Karen\\Desktop\\eskwelabs\\SP4\\scripting_101\\lib\\site-packages\\pandas\\core\\frame.py:4220\u001b[0m, in \u001b[0;36mDataFrame._set_value\u001b[1;34m(self, index, col, value, takeable)\u001b[0m\n\u001b[0;32m   4218\u001b[0m     \u001b[39mself\u001b[39m\u001b[39m.\u001b[39miloc[index, col] \u001b[39m=\u001b[39m value\n\u001b[0;32m   4219\u001b[0m \u001b[39melse\u001b[39;00m:\n\u001b[1;32m-> 4220\u001b[0m     \u001b[39mself\u001b[39;49m\u001b[39m.\u001b[39;49mloc[index, col] \u001b[39m=\u001b[39m value\n\u001b[0;32m   4221\u001b[0m \u001b[39mself\u001b[39m\u001b[39m.\u001b[39m_item_cache\u001b[39m.\u001b[39mpop(col, \u001b[39mNone\u001b[39;00m)\n",
      "File \u001b[1;32mc:\\Users\\Karen\\Desktop\\eskwelabs\\SP4\\scripting_101\\lib\\site-packages\\pandas\\core\\indexing.py:818\u001b[0m, in \u001b[0;36m_LocationIndexer.__setitem__\u001b[1;34m(self, key, value)\u001b[0m\n\u001b[0;32m    815\u001b[0m \u001b[39mself\u001b[39m\u001b[39m.\u001b[39m_has_valid_setitem_indexer(key)\n\u001b[0;32m    817\u001b[0m iloc \u001b[39m=\u001b[39m \u001b[39mself\u001b[39m \u001b[39mif\u001b[39;00m \u001b[39mself\u001b[39m\u001b[39m.\u001b[39mname \u001b[39m==\u001b[39m \u001b[39m\"\u001b[39m\u001b[39miloc\u001b[39m\u001b[39m\"\u001b[39m \u001b[39melse\u001b[39;00m \u001b[39mself\u001b[39m\u001b[39m.\u001b[39mobj\u001b[39m.\u001b[39miloc\n\u001b[1;32m--> 818\u001b[0m iloc\u001b[39m.\u001b[39;49m_setitem_with_indexer(indexer, value, \u001b[39mself\u001b[39;49m\u001b[39m.\u001b[39;49mname)\n",
      "File \u001b[1;32mc:\\Users\\Karen\\Desktop\\eskwelabs\\SP4\\scripting_101\\lib\\site-packages\\pandas\\core\\indexing.py:1797\u001b[0m, in \u001b[0;36m_iLocIndexer._setitem_with_indexer\u001b[1;34m(self, indexer, value, name)\u001b[0m\n\u001b[0;32m   1795\u001b[0m     \u001b[39mself\u001b[39m\u001b[39m.\u001b[39m_setitem_with_indexer_split_path(indexer, value, name)\n\u001b[0;32m   1796\u001b[0m \u001b[39melse\u001b[39;00m:\n\u001b[1;32m-> 1797\u001b[0m     \u001b[39mself\u001b[39;49m\u001b[39m.\u001b[39;49m_setitem_single_block(indexer, value, name)\n",
      "File \u001b[1;32mc:\\Users\\Karen\\Desktop\\eskwelabs\\SP4\\scripting_101\\lib\\site-packages\\pandas\\core\\indexing.py:2069\u001b[0m, in \u001b[0;36m_iLocIndexer._setitem_single_block\u001b[1;34m(self, indexer, value, name)\u001b[0m\n\u001b[0;32m   2063\u001b[0m     indexer \u001b[39m=\u001b[39m maybe_convert_ix(\u001b[39m*\u001b[39mindexer)  \u001b[39m# e.g. test_setitem_frame_align\u001b[39;00m\n\u001b[0;32m   2065\u001b[0m \u001b[39mif\u001b[39;00m (\u001b[39misinstance\u001b[39m(value, ABCSeries) \u001b[39mand\u001b[39;00m name \u001b[39m!=\u001b[39m \u001b[39m\"\u001b[39m\u001b[39miloc\u001b[39m\u001b[39m\"\u001b[39m) \u001b[39mor\u001b[39;00m \u001b[39misinstance\u001b[39m(value, \u001b[39mdict\u001b[39m):\n\u001b[0;32m   2066\u001b[0m     \u001b[39m# TODO(EA): ExtensionBlock.setitem this causes issues with\u001b[39;00m\n\u001b[0;32m   2067\u001b[0m     \u001b[39m# setting for extensionarrays that store dicts. Need to decide\u001b[39;00m\n\u001b[0;32m   2068\u001b[0m     \u001b[39m# if it's worth supporting that.\u001b[39;00m\n\u001b[1;32m-> 2069\u001b[0m     value \u001b[39m=\u001b[39m \u001b[39mself\u001b[39;49m\u001b[39m.\u001b[39;49m_align_series(indexer, Series(value))\n\u001b[0;32m   2071\u001b[0m \u001b[39melif\u001b[39;00m \u001b[39misinstance\u001b[39m(value, ABCDataFrame) \u001b[39mand\u001b[39;00m name \u001b[39m!=\u001b[39m \u001b[39m\"\u001b[39m\u001b[39miloc\u001b[39m\u001b[39m\"\u001b[39m:\n\u001b[0;32m   2072\u001b[0m     value \u001b[39m=\u001b[39m \u001b[39mself\u001b[39m\u001b[39m.\u001b[39m_align_frame(indexer, value)\n",
      "File \u001b[1;32mc:\\Users\\Karen\\Desktop\\eskwelabs\\SP4\\scripting_101\\lib\\site-packages\\pandas\\core\\indexing.py:2306\u001b[0m, in \u001b[0;36m_iLocIndexer._align_series\u001b[1;34m(self, indexer, ser, multiindex_indexer)\u001b[0m\n\u001b[0;32m   2302\u001b[0m         \u001b[39mreturn\u001b[39;00m ser\u001b[39m.\u001b[39m_values\u001b[39m.\u001b[39mcopy()\n\u001b[0;32m   2304\u001b[0m     \u001b[39mreturn\u001b[39;00m ser\u001b[39m.\u001b[39mreindex(ax)\u001b[39m.\u001b[39m_values\n\u001b[1;32m-> 2306\u001b[0m \u001b[39mraise\u001b[39;00m \u001b[39mValueError\u001b[39;00m(\u001b[39m\"\u001b[39m\u001b[39mIncompatible indexer with Series\u001b[39m\u001b[39m\"\u001b[39m)\n",
      "\u001b[1;31mValueError\u001b[0m: Incompatible indexer with Series"
     ]
    }
   ],
   "source": [
    "top = NNs[1][0][1:]\n",
    "index_score = NNs[0][0][1:]\n",
    "\n",
    "get_recommendation(top, matching_df, index_score)"
   ]
  }
 ],
 "metadata": {
  "kernelspec": {
   "display_name": "Python 3.9.9 ('scripting_101')",
   "language": "python",
   "name": "python3"
  },
  "language_info": {
   "codemirror_mode": {
    "name": "ipython",
    "version": 3
   },
   "file_extension": ".py",
   "mimetype": "text/x-python",
   "name": "python",
   "nbconvert_exporter": "python",
   "pygments_lexer": "ipython3",
   "version": "3.9.9"
  },
  "orig_nbformat": 4,
  "vscode": {
   "interpreter": {
    "hash": "a24f3ef9d5d3d19f0023c50b56a5ca82b84cad186672c6b2be45bbee9f6926b5"
   }
  }
 },
 "nbformat": 4,
 "nbformat_minor": 2
}
