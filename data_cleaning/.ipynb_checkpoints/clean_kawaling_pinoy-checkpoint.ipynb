{
 "cells": [
  {
   "cell_type": "code",
   "execution_count": 1,
   "metadata": {},
   "outputs": [],
   "source": [
    "import pandas as pd\n",
    "import spacy"
   ]
  },
  {
   "cell_type": "code",
   "execution_count": null,
   "metadata": {},
   "outputs": [],
   "source": [
    "panlasang_pinoy = pd.read_csv('../data/kawaling_pinoy.csv', nrows = 1000)"
   ]
  },
  {
   "cell_type": "code",
   "execution_count": 3,
   "metadata": {},
   "outputs": [
    {
     "data": {
      "text/html": [
       "<div>\n",
       "<style scoped>\n",
       "    .dataframe tbody tr th:only-of-type {\n",
       "        vertical-align: middle;\n",
       "    }\n",
       "\n",
       "    .dataframe tbody tr th {\n",
       "        vertical-align: top;\n",
       "    }\n",
       "\n",
       "    .dataframe thead th {\n",
       "        text-align: right;\n",
       "    }\n",
       "</style>\n",
       "<table border=\"1\" class=\"dataframe\">\n",
       "  <thead>\n",
       "    <tr style=\"text-align: right;\">\n",
       "      <th></th>\n",
       "      <th>food</th>\n",
       "      <th>ingredients</th>\n",
       "      <th>instructions</th>\n",
       "    </tr>\n",
       "  </thead>\n",
       "  <tbody>\n",
       "    <tr>\n",
       "      <th>0</th>\n",
       "      <td>Pinoy Chicken Sopas</td>\n",
       "      <td>1 lb. rotisserie chicken shredded, 2 Knorr Chi...</td>\n",
       "      <td>Heat cooking oil in a cooking pot. Sauté onion...</td>\n",
       "    </tr>\n",
       "    <tr>\n",
       "      <th>1</th>\n",
       "      <td>Popcorn Chicken and Gravy KFC Style Secret Recipe</td>\n",
       "      <td>1 lb. boneless chicken breast cubed, 1 cup coo...</td>\n",
       "      <td>Start making the popcorn chicken by combining ...</td>\n",
       "    </tr>\n",
       "    <tr>\n",
       "      <th>2</th>\n",
       "      <td>Idol Cheesedog Bread Roll and Bites</td>\n",
       "      <td>12 CDO Idol Cheesedog, 2 cups all-purpose flou...</td>\n",
       "      <td>Start making the idol bites by preparing the d...</td>\n",
       "    </tr>\n",
       "    <tr>\n",
       "      <th>3</th>\n",
       "      <td>Perfect Chicken Adobo on a Budget</td>\n",
       "      <td>2 lbs. chicken cut into serving pieces, 1 Knor...</td>\n",
       "      <td>Combine chicken, soy sauce, vinegar, and 5 clo...</td>\n",
       "    </tr>\n",
       "    <tr>\n",
       "      <th>4</th>\n",
       "      <td>Creamy Mushroom Chicken</td>\n",
       "      <td>1 ½ lbs. chicken cut into serving pieces, 1 Kn...</td>\n",
       "      <td>Rub salt and ground black pepper all over the ...</td>\n",
       "    </tr>\n",
       "  </tbody>\n",
       "</table>\n",
       "</div>"
      ],
      "text/plain": [
       "                                                food  \\\n",
       "0                                Pinoy Chicken Sopas   \n",
       "1  Popcorn Chicken and Gravy KFC Style Secret Recipe   \n",
       "2                Idol Cheesedog Bread Roll and Bites   \n",
       "3                  Perfect Chicken Adobo on a Budget   \n",
       "4                            Creamy Mushroom Chicken   \n",
       "\n",
       "                                         ingredients  \\\n",
       "0  1 lb. rotisserie chicken shredded, 2 Knorr Chi...   \n",
       "1  1 lb. boneless chicken breast cubed, 1 cup coo...   \n",
       "2  12 CDO Idol Cheesedog, 2 cups all-purpose flou...   \n",
       "3  2 lbs. chicken cut into serving pieces, 1 Knor...   \n",
       "4  1 ½ lbs. chicken cut into serving pieces, 1 Kn...   \n",
       "\n",
       "                                        instructions  \n",
       "0  Heat cooking oil in a cooking pot. Sauté onion...  \n",
       "1  Start making the popcorn chicken by combining ...  \n",
       "2  Start making the idol bites by preparing the d...  \n",
       "3  Combine chicken, soy sauce, vinegar, and 5 clo...  \n",
       "4  Rub salt and ground black pepper all over the ...  "
      ]
     },
     "execution_count": 3,
     "metadata": {},
     "output_type": "execute_result"
    }
   ],
   "source": [
    "panlasang_pinoy.head()"
   ]
  },
  {
   "cell_type": "code",
   "execution_count": 4,
   "metadata": {},
   "outputs": [],
   "source": [
    "nlp=spacy.load(\"en_core_web_lg\")"
   ]
  },
  {
   "cell_type": "code",
   "execution_count": 5,
   "metadata": {},
   "outputs": [],
   "source": [
    "## add custom stopwords: for ingredients\n",
    "nlp.Defaults.stop_words |= {\"cup\", \"cups\", \"lb\", 'lbs', \"ounce\", \"ounces\", \"tablespoon\", \"tablespoons\", \"piece\", 'pieces', 'cubed', \\\n",
    "    \"add\", \"continue\", \"enjoy\", \"serve\", \"adjust\", \"need\", \"let\", \"set\", \"start\", \"make\", \"need\", \"share\" #instructions\n",
    "    }"
   ]
  },
  {
   "cell_type": "code",
   "execution_count": 6,
   "metadata": {},
   "outputs": [],
   "source": [
    "# doc = nlp(panlasang_pinoy['ingredients'][0])"
   ]
  },
  {
   "cell_type": "code",
   "execution_count": 7,
   "metadata": {},
   "outputs": [],
   "source": [
    "# doc"
   ]
  },
  {
   "cell_type": "code",
   "execution_count": 8,
   "metadata": {},
   "outputs": [],
   "source": [
    "# remove digits \n",
    "# [token.text.lower() for token in doc.noun_chunks]"
   ]
  },
  {
   "cell_type": "code",
   "execution_count": 9,
   "metadata": {},
   "outputs": [],
   "source": [
    "def clean_ingredients(text):\n",
    "    doc = nlp(text)\n",
    "    temp = \", \".join([token.lemma_.lower() for token in doc.noun_chunks])\n",
    "    text2 = nlp(temp)\n",
    "    text3 = \" \".join([token.lemma_ for token in text2 if not token.is_stop and token.is_alpha and not token.pos_ == 'VERB' and not token.pos_ == 'ADJ' \\\n",
    "        and not token.is_punct])\n",
    "    return text3\n",
    "    "
   ]
  },
  {
   "cell_type": "code",
   "execution_count": 10,
   "metadata": {},
   "outputs": [
    {
     "data": {
      "text/plain": [
       "'1 lb. rotisserie chicken shredded, 2 Knorr Chicken Cubes, ¾ cup hotdog cubed, 1 cup cabbage sliced, 3 stalks celery diced, 1 carrot minced, 1 cup evaporated milk, 8 ounces elbow macaroni, 1 onion minced, 3 cloves garlic minced, 8 cups water, 3 tablespoons cooking oil, Fish sauce and ground black pepper to taste'"
      ]
     },
     "execution_count": 10,
     "metadata": {},
     "output_type": "execute_result"
    }
   ],
   "source": [
    "panlasang_pinoy['ingredients'][0]"
   ]
  },
  {
   "cell_type": "code",
   "execution_count": 11,
   "metadata": {},
   "outputs": [
    {
     "data": {
      "text/plain": [
       "'rotisserie chicken stalk celery oil fish sauce ground pepper'"
      ]
     },
     "execution_count": 11,
     "metadata": {},
     "output_type": "execute_result"
    }
   ],
   "source": [
    "clean_ingredients(panlasang_pinoy['ingredients'][0])"
   ]
  },
  {
   "cell_type": "code",
   "execution_count": 12,
   "metadata": {},
   "outputs": [],
   "source": [
    "panlasang_pinoy['ingredients_clean'] = panlasang_pinoy['ingredients'].apply(lambda x: clean_ingredients(x))"
   ]
  },
  {
   "cell_type": "code",
   "execution_count": 13,
   "metadata": {},
   "outputs": [],
   "source": [
    "panlasang_pinoy['instructions'] = panlasang_pinoy['instructions'].astype(str)"
   ]
  },
  {
   "cell_type": "code",
   "execution_count": 14,
   "metadata": {},
   "outputs": [],
   "source": [
    "def clean_instructions(text):\n",
    "    clean_text = \" \".join([token.lemma_ for token in nlp(text) if not token.is_stop and token.pos_ == 'VERB' and not token.is_punct])\n",
    "    return clean_text"
   ]
  },
  {
   "cell_type": "code",
   "execution_count": 15,
   "metadata": {},
   "outputs": [],
   "source": [
    "panlasang_pinoy['instructions_clean'] = panlasang_pinoy['instructions'].apply(lambda x: clean_instructions(x))"
   ]
  },
  {
   "cell_type": "code",
   "execution_count": 16,
   "metadata": {},
   "outputs": [
    {
     "data": {
      "text/plain": [
       "'Heat cooking oil in a cooking pot. Sauté onion, garlic, and celery for 1 minute.\\nAdd the shredded chicken, hot dogs, and 1 tablespoon of fish sauce. Cook for 1 minute.\\nPour the water and let it boil.\\nAdd Knorr chicken cube. Cover the cooking pot. Adjust the heat of your stove to the lowest setting. Cook for 10 minutes.\\nAdd elbow macaroni. Continue cooking for 18 minutes.\\nAdd cabbage and evaporated milk.\\nSeason with ground black pepper and fish sauce if needed.\\nServe hot. Share and enjoy!'"
      ]
     },
     "execution_count": 16,
     "metadata": {},
     "output_type": "execute_result"
    }
   ],
   "source": [
    "panlasang_pinoy['instructions'][0]"
   ]
  },
  {
   "cell_type": "code",
   "execution_count": 17,
   "metadata": {},
   "outputs": [
    {
     "data": {
      "text/plain": [
       "'shred pour let boil cover cook evaporate need'"
      ]
     },
     "execution_count": 17,
     "metadata": {},
     "output_type": "execute_result"
    }
   ],
   "source": [
    "clean_instructions(panlasang_pinoy['instructions'][0])"
   ]
  },
  {
   "cell_type": "code",
   "execution_count": 18,
   "metadata": {},
   "outputs": [],
   "source": [
    "panlasang_pinoy['ingredients_instructions'] = panlasang_pinoy['ingredients'] + \" \" + panlasang_pinoy['instructions']\n",
    "panlasang_pinoy['ingredients_instructions_clean'] = panlasang_pinoy['ingredients_clean'] + \" \" + panlasang_pinoy['instructions_clean']"
   ]
  },
  {
   "cell_type": "code",
   "execution_count": 19,
   "metadata": {},
   "outputs": [
    {
     "data": {
      "text/plain": [
       "'rotisserie chicken stalk celery oil fish sauce ground pepper shred pour let boil cover cook evaporate need'"
      ]
     },
     "execution_count": 19,
     "metadata": {},
     "output_type": "execute_result"
    }
   ],
   "source": [
    "panlasang_pinoy['ingredients_instructions_clean'][0]"
   ]
  },
  {
   "cell_type": "code",
   "execution_count": 20,
   "metadata": {},
   "outputs": [
    {
     "data": {
      "text/html": [
       "<div>\n",
       "<style scoped>\n",
       "    .dataframe tbody tr th:only-of-type {\n",
       "        vertical-align: middle;\n",
       "    }\n",
       "\n",
       "    .dataframe tbody tr th {\n",
       "        vertical-align: top;\n",
       "    }\n",
       "\n",
       "    .dataframe thead th {\n",
       "        text-align: right;\n",
       "    }\n",
       "</style>\n",
       "<table border=\"1\" class=\"dataframe\">\n",
       "  <thead>\n",
       "    <tr style=\"text-align: right;\">\n",
       "      <th></th>\n",
       "      <th>food</th>\n",
       "      <th>ingredients</th>\n",
       "      <th>instructions</th>\n",
       "      <th>ingredients_clean</th>\n",
       "      <th>instructions_clean</th>\n",
       "      <th>ingredients_instructions</th>\n",
       "      <th>ingredients_instructions_clean</th>\n",
       "    </tr>\n",
       "  </thead>\n",
       "  <tbody>\n",
       "    <tr>\n",
       "      <th>0</th>\n",
       "      <td>Pinoy Chicken Sopas</td>\n",
       "      <td>1 lb. rotisserie chicken shredded, 2 Knorr Chi...</td>\n",
       "      <td>Heat cooking oil in a cooking pot. Sauté onion...</td>\n",
       "      <td>rotisserie chicken stalk celery oil fish sauce...</td>\n",
       "      <td>shred pour let boil cover cook evaporate need</td>\n",
       "      <td>1 lb. rotisserie chicken shredded, 2 Knorr Chi...</td>\n",
       "      <td>rotisserie chicken stalk celery oil fish sauce...</td>\n",
       "    </tr>\n",
       "    <tr>\n",
       "      <th>1</th>\n",
       "      <td>Popcorn Chicken and Gravy KFC Style Secret Recipe</td>\n",
       "      <td>1 lb. boneless chicken breast cubed, 1 cup coo...</td>\n",
       "      <td>Start making the popcorn chicken by combining ...</td>\n",
       "      <td>chicken breast cooking oil buttermilk knorr li...</td>\n",
       "      <td>make combine stir blend marinate melt wait bub...</td>\n",
       "      <td>1 lb. boneless chicken breast cubed, 1 cup coo...</td>\n",
       "      <td>chicken breast cooking oil buttermilk knorr li...</td>\n",
       "    </tr>\n",
       "    <tr>\n",
       "      <th>2</th>\n",
       "      <td>Idol Cheesedog Bread Roll and Bites</td>\n",
       "      <td>12 CDO Idol Cheesedog, 2 cups all-purpose flou...</td>\n",
       "      <td>Start making the idol bites by preparing the d...</td>\n",
       "      <td>cdo idol cheesedog purpose flour milk egg teas...</td>\n",
       "      <td>make prepare evaporate mix combine mix blend c...</td>\n",
       "      <td>12 CDO Idol Cheesedog, 2 cups all-purpose flou...</td>\n",
       "      <td>cdo idol cheesedog purpose flour milk egg teas...</td>\n",
       "    </tr>\n",
       "    <tr>\n",
       "      <th>3</th>\n",
       "      <td>Perfect Chicken Adobo on a Budget</td>\n",
       "      <td>2 lbs. chicken cut into serving pieces, 1 Knor...</td>\n",
       "      <td>Combine chicken, soy sauce, vinegar, and 5 clo...</td>\n",
       "      <td>chicken clove garlic teaspoon sugar oil</td>\n",
       "      <td>mix incorporate boil let cool peel sauté remai...</td>\n",
       "      <td>2 lbs. chicken cut into serving pieces, 1 Knor...</td>\n",
       "      <td>chicken clove garlic teaspoon sugar oil mix in...</td>\n",
       "    </tr>\n",
       "    <tr>\n",
       "      <th>4</th>\n",
       "      <td>Creamy Mushroom Chicken</td>\n",
       "      <td>1 ½ lbs. chicken cut into serving pieces, 1 Kn...</td>\n",
       "      <td>Rub salt and ground black pepper all over the ...</td>\n",
       "      <td>chicken knorr chicken cube purpose cream onion...</td>\n",
       "      <td>rub let stay remove remain get fry remove Melt...</td>\n",
       "      <td>1 ½ lbs. chicken cut into serving pieces, 1 Kn...</td>\n",
       "      <td>chicken knorr chicken cube purpose cream onion...</td>\n",
       "    </tr>\n",
       "    <tr>\n",
       "      <th>...</th>\n",
       "      <td>...</td>\n",
       "      <td>...</td>\n",
       "      <td>...</td>\n",
       "      <td>...</td>\n",
       "      <td>...</td>\n",
       "      <td>...</td>\n",
       "      <td>...</td>\n",
       "    </tr>\n",
       "    <tr>\n",
       "      <th>995</th>\n",
       "      <td>Pork with Salted Black Beans</td>\n",
       "      <td>1 lb. pork tenderloin sliced into thin strips,...</td>\n",
       "      <td>Heat the cooking oil in a pan.\\nSaute garlic a...</td>\n",
       "      <td>pork strip leaf parsley salt bean liquid oyste...</td>\n",
       "      <td>heat salt stir cook pour cover let need pour d...</td>\n",
       "      <td>1 lb. pork tenderloin sliced into thin strips,...</td>\n",
       "      <td>pork strip leaf parsley salt bean liquid oyste...</td>\n",
       "    </tr>\n",
       "    <tr>\n",
       "      <th>996</th>\n",
       "      <td>Misua with Patola and Shrimp</td>\n",
       "      <td>1 medium sized patola sponge gourd, peeled and...</td>\n",
       "      <td>Heat the cooking oil in a deep cooking pot.\\nS...</td>\n",
       "      <td>sponge gourd shrimp shell misua noodle tomato ...</td>\n",
       "      <td>heat pour sprinkle pour let boil sprinkle need...</td>\n",
       "      <td>1 medium sized patola sponge gourd, peeled and...</td>\n",
       "      <td>sponge gourd shrimp shell misua noodle tomato ...</td>\n",
       "    </tr>\n",
       "    <tr>\n",
       "      <th>997</th>\n",
       "      <td>Pata Pochero Recipe</td>\n",
       "      <td>3 lbs. Pig's leg pata, cut in 2 ½ inches lengt...</td>\n",
       "      <td>Heat the cooking oil in a cooking pot.\\nSaute ...</td>\n",
       "      <td>pig leg pata inch length bunch bok choy saba b...</td>\n",
       "      <td>heat cook let boil simmer sprinkle turn let st...</td>\n",
       "      <td>3 lbs. Pig's leg pata, cut in 2 ½ inches lengt...</td>\n",
       "      <td>pig leg pata inch length bunch bok choy saba b...</td>\n",
       "    </tr>\n",
       "    <tr>\n",
       "      <th>998</th>\n",
       "      <td>Basil Chicken Recipe</td>\n",
       "      <td>1 lb. ground chicken breast, 12 to 15 pieces f...</td>\n",
       "      <td>Heat the cooking oil in a pan.\\nSaute the garl...</td>\n",
       "      <td>ground chicken breast basil basil sugar fish s...</td>\n",
       "      <td>heat pour medium evaporate stir cook transfer ...</td>\n",
       "      <td>1 lb. ground chicken breast, 12 to 15 pieces f...</td>\n",
       "      <td>ground chicken breast basil basil sugar fish s...</td>\n",
       "    </tr>\n",
       "    <tr>\n",
       "      <th>999</th>\n",
       "      <td>Chicken with Broccoli Recipe</td>\n",
       "      <td>1 lb chicken breast sliced into thin pieces, 1...</td>\n",
       "      <td>Sprinkle salt and pepper on the sliced chicken...</td>\n",
       "      <td>chicken breast head broccoli floret medium oni...</td>\n",
       "      <td>sprinkle let stand heat Dip beat dredge turn r...</td>\n",
       "      <td>1 lb chicken breast sliced into thin pieces, 1...</td>\n",
       "      <td>chicken breast head broccoli floret medium oni...</td>\n",
       "    </tr>\n",
       "  </tbody>\n",
       "</table>\n",
       "<p>1000 rows × 7 columns</p>\n",
       "</div>"
      ],
      "text/plain": [
       "                                                  food  \\\n",
       "0                                  Pinoy Chicken Sopas   \n",
       "1    Popcorn Chicken and Gravy KFC Style Secret Recipe   \n",
       "2                  Idol Cheesedog Bread Roll and Bites   \n",
       "3                    Perfect Chicken Adobo on a Budget   \n",
       "4                              Creamy Mushroom Chicken   \n",
       "..                                                 ...   \n",
       "995                       Pork with Salted Black Beans   \n",
       "996                       Misua with Patola and Shrimp   \n",
       "997                                Pata Pochero Recipe   \n",
       "998                               Basil Chicken Recipe   \n",
       "999                       Chicken with Broccoli Recipe   \n",
       "\n",
       "                                           ingredients  \\\n",
       "0    1 lb. rotisserie chicken shredded, 2 Knorr Chi...   \n",
       "1    1 lb. boneless chicken breast cubed, 1 cup coo...   \n",
       "2    12 CDO Idol Cheesedog, 2 cups all-purpose flou...   \n",
       "3    2 lbs. chicken cut into serving pieces, 1 Knor...   \n",
       "4    1 ½ lbs. chicken cut into serving pieces, 1 Kn...   \n",
       "..                                                 ...   \n",
       "995  1 lb. pork tenderloin sliced into thin strips,...   \n",
       "996  1 medium sized patola sponge gourd, peeled and...   \n",
       "997  3 lbs. Pig's leg pata, cut in 2 ½ inches lengt...   \n",
       "998  1 lb. ground chicken breast, 12 to 15 pieces f...   \n",
       "999  1 lb chicken breast sliced into thin pieces, 1...   \n",
       "\n",
       "                                          instructions  \\\n",
       "0    Heat cooking oil in a cooking pot. Sauté onion...   \n",
       "1    Start making the popcorn chicken by combining ...   \n",
       "2    Start making the idol bites by preparing the d...   \n",
       "3    Combine chicken, soy sauce, vinegar, and 5 clo...   \n",
       "4    Rub salt and ground black pepper all over the ...   \n",
       "..                                                 ...   \n",
       "995  Heat the cooking oil in a pan.\\nSaute garlic a...   \n",
       "996  Heat the cooking oil in a deep cooking pot.\\nS...   \n",
       "997  Heat the cooking oil in a cooking pot.\\nSaute ...   \n",
       "998  Heat the cooking oil in a pan.\\nSaute the garl...   \n",
       "999  Sprinkle salt and pepper on the sliced chicken...   \n",
       "\n",
       "                                     ingredients_clean  \\\n",
       "0    rotisserie chicken stalk celery oil fish sauce...   \n",
       "1    chicken breast cooking oil buttermilk knorr li...   \n",
       "2    cdo idol cheesedog purpose flour milk egg teas...   \n",
       "3              chicken clove garlic teaspoon sugar oil   \n",
       "4    chicken knorr chicken cube purpose cream onion...   \n",
       "..                                                 ...   \n",
       "995  pork strip leaf parsley salt bean liquid oyste...   \n",
       "996  sponge gourd shrimp shell misua noodle tomato ...   \n",
       "997  pig leg pata inch length bunch bok choy saba b...   \n",
       "998  ground chicken breast basil basil sugar fish s...   \n",
       "999  chicken breast head broccoli floret medium oni...   \n",
       "\n",
       "                                    instructions_clean  \\\n",
       "0        shred pour let boil cover cook evaporate need   \n",
       "1    make combine stir blend marinate melt wait bub...   \n",
       "2    make prepare evaporate mix combine mix blend c...   \n",
       "3    mix incorporate boil let cool peel sauté remai...   \n",
       "4    rub let stay remove remain get fry remove Melt...   \n",
       "..                                                 ...   \n",
       "995  heat salt stir cook pour cover let need pour d...   \n",
       "996  heat pour sprinkle pour let boil sprinkle need...   \n",
       "997  heat cook let boil simmer sprinkle turn let st...   \n",
       "998  heat pour medium evaporate stir cook transfer ...   \n",
       "999  sprinkle let stand heat Dip beat dredge turn r...   \n",
       "\n",
       "                              ingredients_instructions  \\\n",
       "0    1 lb. rotisserie chicken shredded, 2 Knorr Chi...   \n",
       "1    1 lb. boneless chicken breast cubed, 1 cup coo...   \n",
       "2    12 CDO Idol Cheesedog, 2 cups all-purpose flou...   \n",
       "3    2 lbs. chicken cut into serving pieces, 1 Knor...   \n",
       "4    1 ½ lbs. chicken cut into serving pieces, 1 Kn...   \n",
       "..                                                 ...   \n",
       "995  1 lb. pork tenderloin sliced into thin strips,...   \n",
       "996  1 medium sized patola sponge gourd, peeled and...   \n",
       "997  3 lbs. Pig's leg pata, cut in 2 ½ inches lengt...   \n",
       "998  1 lb. ground chicken breast, 12 to 15 pieces f...   \n",
       "999  1 lb chicken breast sliced into thin pieces, 1...   \n",
       "\n",
       "                        ingredients_instructions_clean  \n",
       "0    rotisserie chicken stalk celery oil fish sauce...  \n",
       "1    chicken breast cooking oil buttermilk knorr li...  \n",
       "2    cdo idol cheesedog purpose flour milk egg teas...  \n",
       "3    chicken clove garlic teaspoon sugar oil mix in...  \n",
       "4    chicken knorr chicken cube purpose cream onion...  \n",
       "..                                                 ...  \n",
       "995  pork strip leaf parsley salt bean liquid oyste...  \n",
       "996  sponge gourd shrimp shell misua noodle tomato ...  \n",
       "997  pig leg pata inch length bunch bok choy saba b...  \n",
       "998  ground chicken breast basil basil sugar fish s...  \n",
       "999  chicken breast head broccoli floret medium oni...  \n",
       "\n",
       "[1000 rows x 7 columns]"
      ]
     },
     "execution_count": 20,
     "metadata": {},
     "output_type": "execute_result"
    }
   ],
   "source": [
    "panlasang_pinoy"
   ]
  },
  {
   "cell_type": "code",
   "execution_count": 21,
   "metadata": {},
   "outputs": [],
   "source": [
    "panlasang_pinoy.to_csv('../data/sample_clean_panlasang_pinoy.csv')"
   ]
  }
 ],
 "metadata": {
  "kernelspec": {
   "display_name": "Python 3.9.9 ('scripting_101')",
   "language": "python",
   "name": "python3"
  },
  "language_info": {
   "codemirror_mode": {
    "name": "ipython",
    "version": 3
   },
   "file_extension": ".py",
   "mimetype": "text/x-python",
   "name": "python",
   "nbconvert_exporter": "python",
   "pygments_lexer": "ipython3",
   "version": "3.9.9"
  },
  "orig_nbformat": 4,
  "vscode": {
   "interpreter": {
    "hash": "a24f3ef9d5d3d19f0023c50b56a5ca82b84cad186672c6b2be45bbee9f6926b5"
   }
  }
 },
 "nbformat": 4,
 "nbformat_minor": 2
}
